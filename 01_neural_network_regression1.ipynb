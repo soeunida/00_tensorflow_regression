{
 "cells": [
  {
   "cell_type": "markdown",
   "source": [
    "## neural_network_regression.ipynb\r\n",
    "## 머신러닝\r\n",
    "## 1. Supervised (Regression, Classification)\r\n",
    "## 2. Non-supervised\r\n",
    "## 3. Reinforce"
   ],
   "metadata": {}
  },
  {
   "cell_type": "markdown",
   "source": [
    "## regression 문제 해결! (특정 값인 숫자를 예측하고자는 것)"
   ],
   "metadata": {}
  },
  {
   "cell_type": "code",
   "execution_count": 1,
   "source": [
    "import numpy as np\r\n",
    "import matplotlib.pyplot as plt"
   ],
   "outputs": [],
   "metadata": {}
  },
  {
   "cell_type": "code",
   "execution_count": 2,
   "source": [
    "X = np.array([-7., -4., -1., 2., 5., 8., 11., 14.])  # feature"
   ],
   "outputs": [],
   "metadata": {}
  },
  {
   "cell_type": "code",
   "execution_count": 3,
   "source": [
    "y = np.array([3., 6., 9., 12., 15., 18., 21., 24.]) # 라벨"
   ],
   "outputs": [],
   "metadata": {}
  },
  {
   "cell_type": "code",
   "execution_count": 4,
   "source": [
    "plt.scatter(X, y)"
   ],
   "outputs": [
    {
     "output_type": "execute_result",
     "data": {
      "text/plain": [
       "<matplotlib.collections.PathCollection at 0x1f9faaa6fd0>"
      ]
     },
     "metadata": {},
     "execution_count": 4
    },
    {
     "output_type": "display_data",
     "data": {
      "text/plain": [
       "<Figure size 432x288 with 1 Axes>"
      ],
      "image/svg+xml": "<?xml version=\"1.0\" encoding=\"utf-8\" standalone=\"no\"?>\r\n<!DOCTYPE svg PUBLIC \"-//W3C//DTD SVG 1.1//EN\"\r\n  \"http://www.w3.org/Graphics/SVG/1.1/DTD/svg11.dtd\">\r\n<svg height=\"251.846694pt\" version=\"1.1\" viewBox=\"0 0 374.562825 251.846694\" width=\"374.562825pt\" xmlns=\"http://www.w3.org/2000/svg\" xmlns:xlink=\"http://www.w3.org/1999/xlink\">\r\n <metadata>\r\n  <rdf:RDF xmlns:cc=\"http://creativecommons.org/ns#\" xmlns:dc=\"http://purl.org/dc/elements/1.1/\" xmlns:rdf=\"http://www.w3.org/1999/02/22-rdf-syntax-ns#\">\r\n   <cc:Work>\r\n    <dc:type rdf:resource=\"http://purl.org/dc/dcmitype/StillImage\"/>\r\n    <dc:date>2021-08-22T09:28:15.008735</dc:date>\r\n    <dc:format>image/svg+xml</dc:format>\r\n    <dc:creator>\r\n     <cc:Agent>\r\n      <dc:title>Matplotlib v3.4.3, https://matplotlib.org/</dc:title>\r\n     </cc:Agent>\r\n    </dc:creator>\r\n   </cc:Work>\r\n  </rdf:RDF>\r\n </metadata>\r\n <defs>\r\n  <style type=\"text/css\">*{stroke-linecap:butt;stroke-linejoin:round;}</style>\r\n </defs>\r\n <g id=\"figure_1\">\r\n  <g id=\"patch_1\">\r\n   <path d=\"M -0 251.846694 \r\nL 374.562825 251.846694 \r\nL 374.562825 0 \r\nL -0 0 \r\nz\r\n\" style=\"fill:none;\"/>\r\n  </g>\r\n  <g id=\"axes_1\">\r\n   <g id=\"patch_2\">\r\n    <path d=\"M 26.925 227.968569 \r\nL 361.725 227.968569 \r\nL 361.725 10.528569 \r\nL 26.925 10.528569 \r\nz\r\n\" style=\"fill:#ffffff;\"/>\r\n   </g>\r\n   <g id=\"PathCollection_1\">\r\n    <defs>\r\n     <path d=\"M 0 3 \r\nC 0.795609 3 1.55874 2.683901 2.12132 2.12132 \r\nC 2.683901 1.55874 3 0.795609 3 0 \r\nC 3 -0.795609 2.683901 -1.55874 2.12132 -2.12132 \r\nC 1.55874 -2.683901 0.795609 -3 0 -3 \r\nC -0.795609 -3 -1.55874 -2.683901 -2.12132 -2.12132 \r\nC -2.683901 -1.55874 -3 -0.795609 -3 0 \r\nC -3 0.795609 -2.683901 1.55874 -2.12132 2.12132 \r\nC -1.55874 2.683901 -0.795609 3 0 3 \r\nz\r\n\" id=\"m806b5e2619\" style=\"stroke:#1f77b4;\"/>\r\n    </defs>\r\n    <g clip-path=\"url(#pa3bc63eb57)\">\r\n     <use style=\"fill:#1f77b4;stroke:#1f77b4;\" x=\"42.143182\" xlink:href=\"#m806b5e2619\" y=\"218.084933\"/>\r\n     <use style=\"fill:#1f77b4;stroke:#1f77b4;\" x=\"85.623701\" xlink:href=\"#m806b5e2619\" y=\"189.845972\"/>\r\n     <use style=\"fill:#1f77b4;stroke:#1f77b4;\" x=\"129.104221\" xlink:href=\"#m806b5e2619\" y=\"161.607011\"/>\r\n     <use style=\"fill:#1f77b4;stroke:#1f77b4;\" x=\"172.58474\" xlink:href=\"#m806b5e2619\" y=\"133.36805\"/>\r\n     <use style=\"fill:#1f77b4;stroke:#1f77b4;\" x=\"216.06526\" xlink:href=\"#m806b5e2619\" y=\"105.129089\"/>\r\n     <use style=\"fill:#1f77b4;stroke:#1f77b4;\" x=\"259.545779\" xlink:href=\"#m806b5e2619\" y=\"76.890128\"/>\r\n     <use style=\"fill:#1f77b4;stroke:#1f77b4;\" x=\"303.026299\" xlink:href=\"#m806b5e2619\" y=\"48.651167\"/>\r\n     <use style=\"fill:#1f77b4;stroke:#1f77b4;\" x=\"346.506818\" xlink:href=\"#m806b5e2619\" y=\"20.412206\"/>\r\n    </g>\r\n   </g>\r\n   <g id=\"matplotlib.axis_1\">\r\n    <g id=\"xtick_1\">\r\n     <g id=\"line2d_1\">\r\n      <defs>\r\n       <path d=\"M 0 0 \r\nL 0 3.5 \r\n\" id=\"m8b4feff146\" style=\"stroke:#000000;stroke-width:0.8;\"/>\r\n      </defs>\r\n      <g>\r\n       <use style=\"stroke:#000000;stroke-width:0.8;\" x=\"71.130195\" xlink:href=\"#m8b4feff146\" y=\"227.968569\"/>\r\n      </g>\r\n     </g>\r\n     <g id=\"text_1\">\r\n      <!-- −5 -->\r\n      <g transform=\"translate(63.759101 242.567007)scale(0.1 -0.1)\">\r\n       <defs>\r\n        <path d=\"M 678 2272 \r\nL 4684 2272 \r\nL 4684 1741 \r\nL 678 1741 \r\nL 678 2272 \r\nz\r\n\" id=\"DejaVuSans-2212\" transform=\"scale(0.015625)\"/>\r\n        <path d=\"M 691 4666 \r\nL 3169 4666 \r\nL 3169 4134 \r\nL 1269 4134 \r\nL 1269 2991 \r\nQ 1406 3038 1543 3061 \r\nQ 1681 3084 1819 3084 \r\nQ 2600 3084 3056 2656 \r\nQ 3513 2228 3513 1497 \r\nQ 3513 744 3044 326 \r\nQ 2575 -91 1722 -91 \r\nQ 1428 -91 1123 -41 \r\nQ 819 9 494 109 \r\nL 494 744 \r\nQ 775 591 1075 516 \r\nQ 1375 441 1709 441 \r\nQ 2250 441 2565 725 \r\nQ 2881 1009 2881 1497 \r\nQ 2881 1984 2565 2268 \r\nQ 2250 2553 1709 2553 \r\nQ 1456 2553 1204 2497 \r\nQ 953 2441 691 2322 \r\nL 691 4666 \r\nz\r\n\" id=\"DejaVuSans-35\" transform=\"scale(0.015625)\"/>\r\n       </defs>\r\n       <use xlink:href=\"#DejaVuSans-2212\"/>\r\n       <use x=\"83.789062\" xlink:href=\"#DejaVuSans-35\"/>\r\n      </g>\r\n     </g>\r\n    </g>\r\n    <g id=\"xtick_2\">\r\n     <g id=\"line2d_2\">\r\n      <g>\r\n       <use style=\"stroke:#000000;stroke-width:0.8;\" x=\"143.597727\" xlink:href=\"#m8b4feff146\" y=\"227.968569\"/>\r\n      </g>\r\n     </g>\r\n     <g id=\"text_2\">\r\n      <!-- 0 -->\r\n      <g transform=\"translate(140.416477 242.567007)scale(0.1 -0.1)\">\r\n       <defs>\r\n        <path d=\"M 2034 4250 \r\nQ 1547 4250 1301 3770 \r\nQ 1056 3291 1056 2328 \r\nQ 1056 1369 1301 889 \r\nQ 1547 409 2034 409 \r\nQ 2525 409 2770 889 \r\nQ 3016 1369 3016 2328 \r\nQ 3016 3291 2770 3770 \r\nQ 2525 4250 2034 4250 \r\nz\r\nM 2034 4750 \r\nQ 2819 4750 3233 4129 \r\nQ 3647 3509 3647 2328 \r\nQ 3647 1150 3233 529 \r\nQ 2819 -91 2034 -91 \r\nQ 1250 -91 836 529 \r\nQ 422 1150 422 2328 \r\nQ 422 3509 836 4129 \r\nQ 1250 4750 2034 4750 \r\nz\r\n\" id=\"DejaVuSans-30\" transform=\"scale(0.015625)\"/>\r\n       </defs>\r\n       <use xlink:href=\"#DejaVuSans-30\"/>\r\n      </g>\r\n     </g>\r\n    </g>\r\n    <g id=\"xtick_3\">\r\n     <g id=\"line2d_3\">\r\n      <g>\r\n       <use style=\"stroke:#000000;stroke-width:0.8;\" x=\"216.06526\" xlink:href=\"#m8b4feff146\" y=\"227.968569\"/>\r\n      </g>\r\n     </g>\r\n     <g id=\"text_3\">\r\n      <!-- 5 -->\r\n      <g transform=\"translate(212.88401 242.567007)scale(0.1 -0.1)\">\r\n       <use xlink:href=\"#DejaVuSans-35\"/>\r\n      </g>\r\n     </g>\r\n    </g>\r\n    <g id=\"xtick_4\">\r\n     <g id=\"line2d_4\">\r\n      <g>\r\n       <use style=\"stroke:#000000;stroke-width:0.8;\" x=\"288.532792\" xlink:href=\"#m8b4feff146\" y=\"227.968569\"/>\r\n      </g>\r\n     </g>\r\n     <g id=\"text_4\">\r\n      <!-- 10 -->\r\n      <g transform=\"translate(282.170292 242.567007)scale(0.1 -0.1)\">\r\n       <defs>\r\n        <path d=\"M 794 531 \r\nL 1825 531 \r\nL 1825 4091 \r\nL 703 3866 \r\nL 703 4441 \r\nL 1819 4666 \r\nL 2450 4666 \r\nL 2450 531 \r\nL 3481 531 \r\nL 3481 0 \r\nL 794 0 \r\nL 794 531 \r\nz\r\n\" id=\"DejaVuSans-31\" transform=\"scale(0.015625)\"/>\r\n       </defs>\r\n       <use xlink:href=\"#DejaVuSans-31\"/>\r\n       <use x=\"63.623047\" xlink:href=\"#DejaVuSans-30\"/>\r\n      </g>\r\n     </g>\r\n    </g>\r\n    <g id=\"xtick_5\">\r\n     <g id=\"line2d_5\">\r\n      <g>\r\n       <use style=\"stroke:#000000;stroke-width:0.8;\" x=\"361.000325\" xlink:href=\"#m8b4feff146\" y=\"227.968569\"/>\r\n      </g>\r\n     </g>\r\n     <g id=\"text_5\">\r\n      <!-- 15 -->\r\n      <g transform=\"translate(354.637825 242.567007)scale(0.1 -0.1)\">\r\n       <use xlink:href=\"#DejaVuSans-31\"/>\r\n       <use x=\"63.623047\" xlink:href=\"#DejaVuSans-35\"/>\r\n      </g>\r\n     </g>\r\n    </g>\r\n   </g>\r\n   <g id=\"matplotlib.axis_2\">\r\n    <g id=\"ytick_1\">\r\n     <g id=\"line2d_6\">\r\n      <defs>\r\n       <path d=\"M 0 0 \r\nL -3.5 0 \r\n\" id=\"mc7777a204a\" style=\"stroke:#000000;stroke-width:0.8;\"/>\r\n      </defs>\r\n      <g>\r\n       <use style=\"stroke:#000000;stroke-width:0.8;\" x=\"26.925\" xlink:href=\"#mc7777a204a\" y=\"199.258959\"/>\r\n      </g>\r\n     </g>\r\n     <g id=\"text_6\">\r\n      <!-- 5 -->\r\n      <g transform=\"translate(13.5625 203.058178)scale(0.1 -0.1)\">\r\n       <use xlink:href=\"#DejaVuSans-35\"/>\r\n      </g>\r\n     </g>\r\n    </g>\r\n    <g id=\"ytick_2\">\r\n     <g id=\"line2d_7\">\r\n      <g>\r\n       <use style=\"stroke:#000000;stroke-width:0.8;\" x=\"26.925\" xlink:href=\"#mc7777a204a\" y=\"152.194024\"/>\r\n      </g>\r\n     </g>\r\n     <g id=\"text_7\">\r\n      <!-- 10 -->\r\n      <g transform=\"translate(7.2 155.993243)scale(0.1 -0.1)\">\r\n       <use xlink:href=\"#DejaVuSans-31\"/>\r\n       <use x=\"63.623047\" xlink:href=\"#DejaVuSans-30\"/>\r\n      </g>\r\n     </g>\r\n    </g>\r\n    <g id=\"ytick_3\">\r\n     <g id=\"line2d_8\">\r\n      <g>\r\n       <use style=\"stroke:#000000;stroke-width:0.8;\" x=\"26.925\" xlink:href=\"#mc7777a204a\" y=\"105.129089\"/>\r\n      </g>\r\n     </g>\r\n     <g id=\"text_8\">\r\n      <!-- 15 -->\r\n      <g transform=\"translate(7.2 108.928308)scale(0.1 -0.1)\">\r\n       <use xlink:href=\"#DejaVuSans-31\"/>\r\n       <use x=\"63.623047\" xlink:href=\"#DejaVuSans-35\"/>\r\n      </g>\r\n     </g>\r\n    </g>\r\n    <g id=\"ytick_4\">\r\n     <g id=\"line2d_9\">\r\n      <g>\r\n       <use style=\"stroke:#000000;stroke-width:0.8;\" x=\"26.925\" xlink:href=\"#mc7777a204a\" y=\"58.064154\"/>\r\n      </g>\r\n     </g>\r\n     <g id=\"text_9\">\r\n      <!-- 20 -->\r\n      <g transform=\"translate(7.2 61.863373)scale(0.1 -0.1)\">\r\n       <defs>\r\n        <path d=\"M 1228 531 \r\nL 3431 531 \r\nL 3431 0 \r\nL 469 0 \r\nL 469 531 \r\nQ 828 903 1448 1529 \r\nQ 2069 2156 2228 2338 \r\nQ 2531 2678 2651 2914 \r\nQ 2772 3150 2772 3378 \r\nQ 2772 3750 2511 3984 \r\nQ 2250 4219 1831 4219 \r\nQ 1534 4219 1204 4116 \r\nQ 875 4013 500 3803 \r\nL 500 4441 \r\nQ 881 4594 1212 4672 \r\nQ 1544 4750 1819 4750 \r\nQ 2544 4750 2975 4387 \r\nQ 3406 4025 3406 3419 \r\nQ 3406 3131 3298 2873 \r\nQ 3191 2616 2906 2266 \r\nQ 2828 2175 2409 1742 \r\nQ 1991 1309 1228 531 \r\nz\r\n\" id=\"DejaVuSans-32\" transform=\"scale(0.015625)\"/>\r\n       </defs>\r\n       <use xlink:href=\"#DejaVuSans-32\"/>\r\n       <use x=\"63.623047\" xlink:href=\"#DejaVuSans-30\"/>\r\n      </g>\r\n     </g>\r\n    </g>\r\n    <g id=\"ytick_5\">\r\n     <g id=\"line2d_10\">\r\n      <g>\r\n       <use style=\"stroke:#000000;stroke-width:0.8;\" x=\"26.925\" xlink:href=\"#mc7777a204a\" y=\"10.999219\"/>\r\n      </g>\r\n     </g>\r\n     <g id=\"text_10\">\r\n      <!-- 25 -->\r\n      <g transform=\"translate(7.2 14.798437)scale(0.1 -0.1)\">\r\n       <use xlink:href=\"#DejaVuSans-32\"/>\r\n       <use x=\"63.623047\" xlink:href=\"#DejaVuSans-35\"/>\r\n      </g>\r\n     </g>\r\n    </g>\r\n   </g>\r\n   <g id=\"patch_3\">\r\n    <path d=\"M 26.925 227.968569 \r\nL 26.925 10.528569 \r\n\" style=\"fill:none;stroke:#000000;stroke-linecap:square;stroke-linejoin:miter;stroke-width:0.8;\"/>\r\n   </g>\r\n   <g id=\"patch_4\">\r\n    <path d=\"M 361.725 227.968569 \r\nL 361.725 10.528569 \r\n\" style=\"fill:none;stroke:#000000;stroke-linecap:square;stroke-linejoin:miter;stroke-width:0.8;\"/>\r\n   </g>\r\n   <g id=\"patch_5\">\r\n    <path d=\"M 26.925 227.968569 \r\nL 361.725 227.968569 \r\n\" style=\"fill:none;stroke:#000000;stroke-linecap:square;stroke-linejoin:miter;stroke-width:0.8;\"/>\r\n   </g>\r\n   <g id=\"patch_6\">\r\n    <path d=\"M 26.925 10.528569 \r\nL 361.725 10.528569 \r\n\" style=\"fill:none;stroke:#000000;stroke-linecap:square;stroke-linejoin:miter;stroke-width:0.8;\"/>\r\n   </g>\r\n  </g>\r\n </g>\r\n <defs>\r\n  <clipPath id=\"pa3bc63eb57\">\r\n   <rect height=\"217.44\" width=\"334.8\" x=\"26.925\" y=\"10.528569\"/>\r\n  </clipPath>\r\n </defs>\r\n</svg>\r\n",
      "image/png": "[encoded data removed]"
     },
     "metadata": {
      "needs_background": "light"
     }
    }
   ],
   "metadata": {}
  },
  {
   "cell_type": "markdown",
   "source": [
    "## 모델링 (modelling) : X와 y에 숨겨진 pattern(패턴)을 찾고 계산, 수식으로 표현하고 싶다!"
   ],
   "metadata": {}
  },
  {
   "cell_type": "code",
   "execution_count": 5,
   "source": [
    "import tensorflow as tf\r\n",
    "\r\n",
    "house_info = tf.constant([\"bedroom\", \"bathroom\", \"garage\"])\r\n",
    "house_price = tf.constant([939700])\r\n",
    "house_info, house_price, house_info.shape, house_price.shape"
   ],
   "outputs": [
    {
     "output_type": "execute_result",
     "data": {
      "text/plain": [
       "(<tf.Tensor: shape=(3,), dtype=string, numpy=array([b'bedroom', b'bathroom', b'garage'], dtype=object)>,\n",
       " <tf.Tensor: shape=(1,), dtype=int32, numpy=array([939700])>,\n",
       " TensorShape([3]),\n",
       " TensorShape([1]))"
      ]
     },
     "metadata": {},
     "execution_count": 5
    }
   ],
   "metadata": {}
  },
  {
   "cell_type": "markdown",
   "source": [
    "## 신경망 (neural network)을 활용할 때 가장 중요한 개념중에 하나가 입력 shape, 출력 shape\r\n",
    "## input shape (입력 shape) : 모델에 입력할 데이터의 shape\r\n",
    "## output shape (출력 shape) : 입력한 데이터를 모델이 처리하고 내보내는 결과의 shape\r\n",
    "## input shape, output shape를 우리가 해결하려는 문제에 따라서 항상 다르다!\r\n",
    "## 신경망은 숫자를 받아들이고, 숫자로 결과를 알려줍니다. 일반적으로 이러한 숫자들은 tensor 및 array로 표현합니다.\r\n"
   ],
   "metadata": {}
  },
  {
   "cell_type": "markdown",
   "source": [
    "## 입력인 X를 통해서 y를 예측하고 싶다! ==> regression"
   ],
   "metadata": {}
  },
  {
   "cell_type": "code",
   "execution_count": 6,
   "source": [
    "input_shape = X[0].shape\r\n",
    "output_shape = y[0].shape\r\n",
    "\r\n",
    "X[0], input_shape, y[0], output_shape"
   ],
   "outputs": [
    {
     "output_type": "execute_result",
     "data": {
      "text/plain": [
       "(-7.0, (), 3.0, ())"
      ]
     },
     "metadata": {},
     "execution_count": 6
    }
   ],
   "metadata": {}
  },
  {
   "cell_type": "markdown",
   "source": [
    "## TensorFlow로 모델링을 하는 과정, 즉 모델을 생성하고 학습하는 3가지 과정\r\n",
    "## 1. 모델을 create : 직접 신경망의 계층을 추가합니다 / 이전에 만들어진 모델을 가져와서 사용 (전이학습 transfer learning)\r\n",
    "## 2. 모델을 compile : 모델의 성능을 평가할 수 있는 지표 지정 (loss/metrics)하고 모델이 어떻게 개선되어야할지 정의 (optimizer)\r\n",
    "## 3. 모델을 fit : 데이터에서 패턴을 찾도록 시키는 것"
   ],
   "metadata": {}
  },
  {
   "cell_type": "code",
   "execution_count": 7,
   "source": [
    "tf.random.set_seed(42)\r\n",
    "\r\n",
    "# 1. 모델을 create\r\n",
    "model = tf.keras.Sequential([\r\n",
    "    tf.keras.layers.Dense(1)\r\n",
    "])\r\n",
    "\r\n",
    "# 2. 모델을 compile\r\n",
    "model.compile(\r\n",
    "    loss = tf.keras.losses.mae,   # mean absolute error\r\n",
    "    optimizer = tf.keras.optimizers.SGD(), # short for stochastic gradient descent\r\n",
    "    metrics = [\"mae\"]\r\n",
    ")\r\n",
    "\r\n",
    "# 3. 모델을 fit\r\n",
    "model.fit(X, y, epochs = 5)"
   ],
   "outputs": [
    {
     "output_type": "stream",
     "name": "stdout",
     "text": [
      "Epoch 1/5\n",
      "1/1 [==============================] - 0s 204ms/step - loss: 11.5048 - mae: 11.5048\n",
      "Epoch 2/5\n",
      "1/1 [==============================] - 0s 2ms/step - loss: 11.3723 - mae: 11.3723\n",
      "Epoch 3/5\n",
      "1/1 [==============================] - 0s 2ms/step - loss: 11.2398 - mae: 11.2398\n",
      "Epoch 4/5\n",
      "1/1 [==============================] - 0s 2ms/step - loss: 11.1073 - mae: 11.1073\n",
      "Epoch 5/5\n",
      "1/1 [==============================] - 0s 998us/step - loss: 10.9748 - mae: 10.9748\n"
     ]
    },
    {
     "output_type": "execute_result",
     "data": {
      "text/plain": [
       "<keras.callbacks.History at 0x1f9bfd315b0>"
      ]
     },
     "metadata": {},
     "execution_count": 7
    }
   ],
   "metadata": {}
  },
  {
   "cell_type": "code",
   "execution_count": 15,
   "source": [
    "X, y"
   ],
   "outputs": [
    {
     "output_type": "execute_result",
     "data": {
      "text/plain": [
       "(array([-7., -4., -1.,  2.,  5.,  8., 11., 14.]),\n",
       " array([ 3.,  6.,  9., 12., 15., 18., 21., 24.]))"
      ]
     },
     "metadata": {},
     "execution_count": 15
    }
   ],
   "metadata": {}
  },
  {
   "cell_type": "code",
   "execution_count": 16,
   "source": [
    "# 4. 만들고 학습한 모델로 predict\r\n",
    "model.predict([17.0])"
   ],
   "outputs": [
    {
     "output_type": "execute_result",
     "data": {
      "text/plain": [
       "array([[12.716021]], dtype=float32)"
      ]
     },
     "metadata": {},
     "execution_count": 16
    }
   ],
   "metadata": {}
  },
  {
   "cell_type": "code",
   "execution_count": 17,
   "source": [
    "model.predict([-10.0])"
   ],
   "outputs": [
    {
     "output_type": "execute_result",
     "data": {
      "text/plain": [
       "array([[-7.4006]], dtype=float32)"
      ]
     },
     "metadata": {},
     "execution_count": 17
    }
   ],
   "metadata": {}
  },
  {
   "cell_type": "markdown",
   "source": [
    "## 학습한 모델의 결과가 좋지 않아요!\r\n",
    "## 모델을 성능을 더 좋게 만들어야 합니다.\r\n",
    "## 1. 모델을 create : 계층을 추가해 준다! / 계층을 구성하는 neuron을 추가 / actionvation function (활성화 함수)를 바꿔본다\r\n",
    "## 2. 모델을 compile : optimization function (최적화 함수)를 바꿔본다 / 최적화 함수의 learning rate를 변경\r\n",
    "## 3. 모델을 fit : 더 많이 공부, 즉 학습 epoch를 늘린다! => 시간이 늘어난다 / 학습하는 데이터를 더 많이 준다!\r\n",
    "\r\n",
    "## 계층을 추가해 준다! / 계층을 구성하는 neuron을 추가 / 최적화 함수의 learning rate를 변경 (Data Augmentation)\r\n",
    "## 지금까지 모델을 개선하기 위해서 설명한 위의 내용들은 개발자가 직접 변경할 수 있다!\r\n",
    "## hyperparameter라고 합니다.\r\n",
    "## hyperparameter를 우리가 직접 수정하는 그 과정 => hyperparameter tuning!"
   ],
   "metadata": {}
  },
  {
   "cell_type": "code",
   "execution_count": 8,
   "source": [
    "tf.random.set_seed(42)\r\n",
    "\r\n",
    "# 1. 모델을 create\r\n",
    "model = tf.keras.Sequential([\r\n",
    "    tf.keras.layers.Dense(1)\r\n",
    "])\r\n",
    "\r\n",
    "# 2. 모델을 compile\r\n",
    "model.compile(\r\n",
    "    loss = tf.keras.losses.mae,   # mean absolute error\r\n",
    "    optimizer = tf.keras.optimizers.SGD(), # short for stochastic gradient descent\r\n",
    "    metrics = [\"mae\"]\r\n",
    ")\r\n",
    "\r\n",
    "# 3. 모델을 fit\r\n",
    "model.fit(X, y, epochs = 200)"
   ],
   "outputs": [
    {
     "output_type": "stream",
     "name": "stdout",
     "text": [
      "Epoch 1/200\n",
      "1/1 [==============================] - 0s 138ms/step - loss: 11.5048 - mae: 11.5048\n",
      "Epoch 2/200\n",
      "1/1 [==============================] - 0s 2ms/step - loss: 11.3723 - mae: 11.3723\n",
      "Epoch 3/200\n",
      "1/1 [==============================] - 0s 997us/step - loss: 11.2398 - mae: 11.2398\n",
      "Epoch 4/200\n",
      "1/1 [==============================] - 0s 2ms/step - loss: 11.1073 - mae: 11.1073\n",
      "Epoch 5/200\n",
      "1/1 [==============================] - 0s 998us/step - loss: 10.9748 - mae: 10.9748\n",
      "Epoch 6/200\n",
      "1/1 [==============================] - 0s 998us/step - loss: 10.8423 - mae: 10.8423\n",
      "Epoch 7/200\n",
      "1/1 [==============================] - 0s 2ms/step - loss: 10.7098 - mae: 10.7098\n",
      "Epoch 8/200\n",
      "1/1 [==============================] - 0s 997us/step - loss: 10.5773 - mae: 10.5773\n",
      "Epoch 9/200\n",
      "1/1 [==============================] - 0s 998us/step - loss: 10.4448 - mae: 10.4448\n",
      "Epoch 10/200\n",
      "1/1 [==============================] - 0s 996us/step - loss: 10.3123 - mae: 10.3123\n",
      "Epoch 11/200\n",
      "1/1 [==============================] - 0s 2ms/step - loss: 10.1798 - mae: 10.1798\n",
      "Epoch 12/200\n",
      "1/1 [==============================] - 0s 2ms/step - loss: 10.0473 - mae: 10.0473\n",
      "Epoch 13/200\n",
      "1/1 [==============================] - 0s 2ms/step - loss: 9.9148 - mae: 9.9148\n",
      "Epoch 14/200\n",
      "1/1 [==============================] - 0s 996us/step - loss: 9.7823 - mae: 9.7823\n",
      "Epoch 15/200\n",
      "1/1 [==============================] - 0s 2ms/step - loss: 9.6498 - mae: 9.6498\n",
      "Epoch 16/200\n",
      "1/1 [==============================] - 0s 997us/step - loss: 9.5173 - mae: 9.5173\n",
      "Epoch 17/200\n",
      "1/1 [==============================] - 0s 2ms/step - loss: 9.3848 - mae: 9.3848\n",
      "Epoch 18/200\n",
      "1/1 [==============================] - 0s 997us/step - loss: 9.2523 - mae: 9.2523\n",
      "Epoch 19/200\n",
      "1/1 [==============================] - 0s 997us/step - loss: 9.1198 - mae: 9.1198\n",
      "Epoch 20/200\n",
      "1/1 [==============================] - 0s 2ms/step - loss: 8.9873 - mae: 8.9873\n",
      "Epoch 21/200\n",
      "1/1 [==============================] - 0s 3ms/step - loss: 8.8548 - mae: 8.8548\n",
      "Epoch 22/200\n",
      "1/1 [==============================] - 0s 2ms/step - loss: 8.7223 - mae: 8.7223\n",
      "Epoch 23/200\n",
      "1/1 [==============================] - 0s 2ms/step - loss: 8.5898 - mae: 8.5898\n",
      "Epoch 24/200\n",
      "1/1 [==============================] - 0s 998us/step - loss: 8.4573 - mae: 8.4573\n",
      "Epoch 25/200\n",
      "1/1 [==============================] - 0s 3ms/step - loss: 8.3248 - mae: 8.3248\n",
      "Epoch 26/200\n",
      "1/1 [==============================] - 0s 2ms/step - loss: 8.1923 - mae: 8.1923\n",
      "Epoch 27/200\n",
      "1/1 [==============================] - 0s 2ms/step - loss: 8.0598 - mae: 8.0598\n",
      "Epoch 28/200\n",
      "1/1 [==============================] - 0s 2ms/step - loss: 7.9273 - mae: 7.9273\n",
      "Epoch 29/200\n",
      "1/1 [==============================] - 0s 2ms/step - loss: 7.7948 - mae: 7.7948\n",
      "Epoch 30/200\n",
      "1/1 [==============================] - 0s 3ms/step - loss: 7.6623 - mae: 7.6623\n",
      "Epoch 31/200\n",
      "1/1 [==============================] - 0s 2ms/step - loss: 7.5298 - mae: 7.5298\n",
      "Epoch 32/200\n",
      "1/1 [==============================] - 0s 998us/step - loss: 7.3973 - mae: 7.3973\n",
      "Epoch 33/200\n",
      "1/1 [==============================] - 0s 997us/step - loss: 7.2648 - mae: 7.2648\n",
      "Epoch 34/200\n",
      "1/1 [==============================] - 0s 3ms/step - loss: 7.2525 - mae: 7.2525\n",
      "Epoch 35/200\n",
      "1/1 [==============================] - 0s 995us/step - loss: 7.2469 - mae: 7.2469\n",
      "Epoch 36/200\n",
      "1/1 [==============================] - 0s 2ms/step - loss: 7.2413 - mae: 7.2413\n",
      "Epoch 37/200\n",
      "1/1 [==============================] - 0s 996us/step - loss: 7.2356 - mae: 7.2356\n",
      "Epoch 38/200\n",
      "1/1 [==============================] - 0s 2ms/step - loss: 7.2300 - mae: 7.2300\n",
      "Epoch 39/200\n",
      "1/1 [==============================] - 0s 3ms/step - loss: 7.2244 - mae: 7.2244\n",
      "Epoch 40/200\n",
      "1/1 [==============================] - 0s 2ms/step - loss: 7.2188 - mae: 7.2188\n",
      "Epoch 41/200\n",
      "1/1 [==============================] - 0s 997us/step - loss: 7.2131 - mae: 7.2131\n",
      "Epoch 42/200\n",
      "1/1 [==============================] - 0s 997us/step - loss: 7.2075 - mae: 7.2075\n",
      "Epoch 43/200\n",
      "1/1 [==============================] - 0s 2ms/step - loss: 7.2019 - mae: 7.2019\n",
      "Epoch 44/200\n",
      "1/1 [==============================] - 0s 2ms/step - loss: 7.1963 - mae: 7.1963\n",
      "Epoch 45/200\n",
      "1/1 [==============================] - 0s 997us/step - loss: 7.1906 - mae: 7.1906\n",
      "Epoch 46/200\n",
      "1/1 [==============================] - 0s 996us/step - loss: 7.1850 - mae: 7.1850\n",
      "Epoch 47/200\n",
      "1/1 [==============================] - 0s 997us/step - loss: 7.1794 - mae: 7.1794\n",
      "Epoch 48/200\n",
      "1/1 [==============================] - 0s 2ms/step - loss: 7.1738 - mae: 7.1738\n",
      "Epoch 49/200\n",
      "1/1 [==============================] - 0s 2ms/step - loss: 7.1681 - mae: 7.1681\n",
      "Epoch 50/200\n",
      "1/1 [==============================] - 0s 2ms/step - loss: 7.1625 - mae: 7.1625\n",
      "Epoch 51/200\n",
      "1/1 [==============================] - 0s 2ms/step - loss: 7.1569 - mae: 7.1569\n",
      "Epoch 52/200\n",
      "1/1 [==============================] - 0s 995us/step - loss: 7.1512 - mae: 7.1512\n",
      "Epoch 53/200\n",
      "1/1 [==============================] - 0s 2ms/step - loss: 7.1456 - mae: 7.1456\n",
      "Epoch 54/200\n",
      "1/1 [==============================] - 0s 2ms/step - loss: 7.1400 - mae: 7.1400\n",
      "Epoch 55/200\n",
      "1/1 [==============================] - 0s 2ms/step - loss: 7.1344 - mae: 7.1344\n",
      "Epoch 56/200\n",
      "1/1 [==============================] - 0s 2ms/step - loss: 7.1287 - mae: 7.1287\n",
      "Epoch 57/200\n",
      "1/1 [==============================] - 0s 2ms/step - loss: 7.1231 - mae: 7.1231\n",
      "Epoch 58/200\n",
      "1/1 [==============================] - 0s 2ms/step - loss: 7.1175 - mae: 7.1175\n",
      "Epoch 59/200\n",
      "1/1 [==============================] - 0s 3ms/step - loss: 7.1119 - mae: 7.1119\n",
      "Epoch 60/200\n",
      "1/1 [==============================] - 0s 2ms/step - loss: 7.1063 - mae: 7.1063\n",
      "Epoch 61/200\n",
      "1/1 [==============================] - 0s 996us/step - loss: 7.1006 - mae: 7.1006\n",
      "Epoch 62/200\n",
      "1/1 [==============================] - 0s 3ms/step - loss: 7.0950 - mae: 7.0950\n",
      "Epoch 63/200\n",
      "1/1 [==============================] - 0s 2ms/step - loss: 7.0894 - mae: 7.0894\n",
      "Epoch 64/200\n",
      "1/1 [==============================] - 0s 3ms/step - loss: 7.0838 - mae: 7.0838\n",
      "Epoch 65/200\n",
      "1/1 [==============================] - 0s 2ms/step - loss: 7.0781 - mae: 7.0781\n",
      "Epoch 66/200\n",
      "1/1 [==============================] - 0s 2ms/step - loss: 7.0725 - mae: 7.0725\n",
      "Epoch 67/200\n",
      "1/1 [==============================] - 0s 2ms/step - loss: 7.0669 - mae: 7.0669\n",
      "Epoch 68/200\n",
      "1/1 [==============================] - 0s 3ms/step - loss: 7.0613 - mae: 7.0613\n",
      "Epoch 69/200\n",
      "1/1 [==============================] - 0s 2ms/step - loss: 7.0556 - mae: 7.0556\n",
      "Epoch 70/200\n",
      "1/1 [==============================] - 0s 2ms/step - loss: 7.0500 - mae: 7.0500\n",
      "Epoch 71/200\n",
      "1/1 [==============================] - 0s 2ms/step - loss: 7.0444 - mae: 7.0444\n",
      "Epoch 72/200\n",
      "1/1 [==============================] - 0s 2ms/step - loss: 7.0388 - mae: 7.0388\n",
      "Epoch 73/200\n",
      "1/1 [==============================] - 0s 2ms/step - loss: 7.0331 - mae: 7.0331\n",
      "Epoch 74/200\n",
      "1/1 [==============================] - 0s 997us/step - loss: 7.0275 - mae: 7.0275\n",
      "Epoch 75/200\n",
      "1/1 [==============================] - 0s 2ms/step - loss: 7.0219 - mae: 7.0219\n",
      "Epoch 76/200\n",
      "1/1 [==============================] - 0s 2ms/step - loss: 7.0163 - mae: 7.0163\n",
      "Epoch 77/200\n",
      "1/1 [==============================] - 0s 2ms/step - loss: 7.0106 - mae: 7.0106\n",
      "Epoch 78/200\n",
      "1/1 [==============================] - 0s 996us/step - loss: 7.0050 - mae: 7.0050\n",
      "Epoch 79/200\n",
      "1/1 [==============================] - 0s 2ms/step - loss: 6.9994 - mae: 6.9994\n",
      "Epoch 80/200\n",
      "1/1 [==============================] - 0s 996us/step - loss: 6.9938 - mae: 6.9938\n",
      "Epoch 81/200\n",
      "1/1 [==============================] - 0s 2ms/step - loss: 6.9881 - mae: 6.9881\n",
      "Epoch 82/200\n",
      "1/1 [==============================] - 0s 2ms/step - loss: 6.9825 - mae: 6.9825\n",
      "Epoch 83/200\n",
      "1/1 [==============================] - 0s 997us/step - loss: 6.9769 - mae: 6.9769\n",
      "Epoch 84/200\n",
      "1/1 [==============================] - 0s 999us/step - loss: 6.9713 - mae: 6.9713\n",
      "Epoch 85/200\n",
      "1/1 [==============================] - 0s 2ms/step - loss: 6.9656 - mae: 6.9656\n",
      "Epoch 86/200\n",
      "1/1 [==============================] - 0s 2ms/step - loss: 6.9600 - mae: 6.9600\n",
      "Epoch 87/200\n",
      "1/1 [==============================] - 0s 2ms/step - loss: 6.9544 - mae: 6.9544\n",
      "Epoch 88/200\n",
      "1/1 [==============================] - 0s 2ms/step - loss: 6.9488 - mae: 6.9488\n",
      "Epoch 89/200\n",
      "1/1 [==============================] - 0s 997us/step - loss: 6.9431 - mae: 6.9431\n",
      "Epoch 90/200\n",
      "1/1 [==============================] - 0s 3ms/step - loss: 6.9375 - mae: 6.9375\n",
      "Epoch 91/200\n",
      "1/1 [==============================] - 0s 2ms/step - loss: 6.9319 - mae: 6.9319\n",
      "Epoch 92/200\n",
      "1/1 [==============================] - 0s 997us/step - loss: 6.9263 - mae: 6.9263\n",
      "Epoch 93/200\n",
      "1/1 [==============================] - 0s 2ms/step - loss: 6.9206 - mae: 6.9206\n",
      "Epoch 94/200\n",
      "1/1 [==============================] - 0s 997us/step - loss: 6.9150 - mae: 6.9150\n",
      "Epoch 95/200\n",
      "1/1 [==============================] - 0s 2ms/step - loss: 6.9094 - mae: 6.9094\n",
      "Epoch 96/200\n",
      "1/1 [==============================] - 0s 3ms/step - loss: 6.9038 - mae: 6.9038\n",
      "Epoch 97/200\n",
      "1/1 [==============================] - 0s 997us/step - loss: 6.8981 - mae: 6.8981\n",
      "Epoch 98/200\n",
      "1/1 [==============================] - 0s 2ms/step - loss: 6.8925 - mae: 6.8925\n",
      "Epoch 99/200\n",
      "1/1 [==============================] - 0s 3ms/step - loss: 6.8869 - mae: 6.8869\n",
      "Epoch 100/200\n",
      "1/1 [==============================] - 0s 3ms/step - loss: 6.8813 - mae: 6.8813\n",
      "Epoch 101/200\n",
      "1/1 [==============================] - 0s 2ms/step - loss: 6.8756 - mae: 6.8756\n",
      "Epoch 102/200\n",
      "1/1 [==============================] - 0s 996us/step - loss: 6.8700 - mae: 6.8700\n",
      "Epoch 103/200\n",
      "1/1 [==============================] - 0s 996us/step - loss: 6.8644 - mae: 6.8644\n",
      "Epoch 104/200\n",
      "1/1 [==============================] - 0s 3ms/step - loss: 6.8588 - mae: 6.8588\n",
      "Epoch 105/200\n",
      "1/1 [==============================] - 0s 2ms/step - loss: 6.8531 - mae: 6.8531\n",
      "Epoch 106/200\n",
      "1/1 [==============================] - 0s 2ms/step - loss: 6.8475 - mae: 6.8475\n",
      "Epoch 107/200\n",
      "1/1 [==============================] - 0s 2ms/step - loss: 6.8419 - mae: 6.8419\n",
      "Epoch 108/200\n",
      "1/1 [==============================] - 0s 997us/step - loss: 6.8363 - mae: 6.8363\n",
      "Epoch 109/200\n",
      "1/1 [==============================] - 0s 2ms/step - loss: 6.8306 - mae: 6.8306\n",
      "Epoch 110/200\n",
      "1/1 [==============================] - 0s 2ms/step - loss: 6.8250 - mae: 6.8250\n",
      "Epoch 111/200\n",
      "1/1 [==============================] - 0s 2ms/step - loss: 6.8194 - mae: 6.8194\n",
      "Epoch 112/200\n",
      "1/1 [==============================] - 0s 997us/step - loss: 6.8138 - mae: 6.8138\n",
      "Epoch 113/200\n",
      "1/1 [==============================] - 0s 2ms/step - loss: 6.8081 - mae: 6.8081\n",
      "Epoch 114/200\n",
      "1/1 [==============================] - 0s 2ms/step - loss: 6.8025 - mae: 6.8025\n",
      "Epoch 115/200\n",
      "1/1 [==============================] - 0s 2ms/step - loss: 6.7969 - mae: 6.7969\n",
      "Epoch 116/200\n",
      "1/1 [==============================] - 0s 2ms/step - loss: 6.7913 - mae: 6.7913\n",
      "Epoch 117/200\n",
      "1/1 [==============================] - 0s 997us/step - loss: 6.7856 - mae: 6.7856\n",
      "Epoch 118/200\n",
      "1/1 [==============================] - 0s 997us/step - loss: 6.7800 - mae: 6.7800\n",
      "Epoch 119/200\n",
      "1/1 [==============================] - 0s 2ms/step - loss: 6.7744 - mae: 6.7744\n",
      "Epoch 120/200\n",
      "1/1 [==============================] - 0s 2ms/step - loss: 6.7688 - mae: 6.7688\n",
      "Epoch 121/200\n",
      "1/1 [==============================] - 0s 2ms/step - loss: 6.7631 - mae: 6.7631\n",
      "Epoch 122/200\n",
      "1/1 [==============================] - 0s 998us/step - loss: 6.7575 - mae: 6.7575\n",
      "Epoch 123/200\n",
      "1/1 [==============================] - 0s 2ms/step - loss: 6.7519 - mae: 6.7519\n",
      "Epoch 124/200\n",
      "1/1 [==============================] - 0s 2ms/step - loss: 6.7463 - mae: 6.7463\n",
      "Epoch 125/200\n",
      "1/1 [==============================] - 0s 3ms/step - loss: 6.7406 - mae: 6.7406\n",
      "Epoch 126/200\n",
      "1/1 [==============================] - 0s 5ms/step - loss: 6.7350 - mae: 6.7350\n",
      "Epoch 127/200\n",
      "1/1 [==============================] - 0s 2ms/step - loss: 6.7294 - mae: 6.7294\n",
      "Epoch 128/200\n",
      "1/1 [==============================] - 0s 996us/step - loss: 6.7238 - mae: 6.7238\n",
      "Epoch 129/200\n",
      "1/1 [==============================] - 0s 3ms/step - loss: 6.7181 - mae: 6.7181\n",
      "Epoch 130/200\n",
      "1/1 [==============================] - 0s 998us/step - loss: 6.7125 - mae: 6.7125\n",
      "Epoch 131/200\n",
      "1/1 [==============================] - 0s 998us/step - loss: 6.7069 - mae: 6.7069\n",
      "Epoch 132/200\n",
      "1/1 [==============================] - 0s 3ms/step - loss: 6.7013 - mae: 6.7013\n",
      "Epoch 133/200\n",
      "1/1 [==============================] - 0s 2ms/step - loss: 6.6956 - mae: 6.6956\n",
      "Epoch 134/200\n",
      "1/1 [==============================] - 0s 4ms/step - loss: 6.6900 - mae: 6.6900\n",
      "Epoch 135/200\n",
      "1/1 [==============================] - 0s 2ms/step - loss: 6.6844 - mae: 6.6844\n",
      "Epoch 136/200\n",
      "1/1 [==============================] - 0s 997us/step - loss: 6.6788 - mae: 6.6788\n",
      "Epoch 137/200\n",
      "1/1 [==============================] - 0s 2ms/step - loss: 6.6731 - mae: 6.6731\n",
      "Epoch 138/200\n",
      "1/1 [==============================] - 0s 2ms/step - loss: 6.6675 - mae: 6.6675\n",
      "Epoch 139/200\n",
      "1/1 [==============================] - 0s 2ms/step - loss: 6.6619 - mae: 6.6619\n",
      "Epoch 140/200\n",
      "1/1 [==============================] - 0s 998us/step - loss: 6.6562 - mae: 6.6562\n",
      "Epoch 141/200\n",
      "1/1 [==============================] - 0s 998us/step - loss: 6.6506 - mae: 6.6506\n",
      "Epoch 142/200\n",
      "1/1 [==============================] - 0s 997us/step - loss: 6.6450 - mae: 6.6450\n",
      "Epoch 143/200\n",
      "1/1 [==============================] - 0s 1ms/step - loss: 6.6394 - mae: 6.6394\n",
      "Epoch 144/200\n",
      "1/1 [==============================] - 0s 2ms/step - loss: 6.6337 - mae: 6.6337\n",
      "Epoch 145/200\n",
      "1/1 [==============================] - 0s 992us/step - loss: 6.6281 - mae: 6.6281\n",
      "Epoch 146/200\n",
      "1/1 [==============================] - 0s 997us/step - loss: 6.6225 - mae: 6.6225\n",
      "Epoch 147/200\n",
      "1/1 [==============================] - 0s 2ms/step - loss: 6.6169 - mae: 6.6169\n",
      "Epoch 148/200\n",
      "1/1 [==============================] - 0s 3ms/step - loss: 6.6112 - mae: 6.6112\n",
      "Epoch 149/200\n",
      "1/1 [==============================] - 0s 2ms/step - loss: 6.6056 - mae: 6.6056\n",
      "Epoch 150/200\n",
      "1/1 [==============================] - 0s 2ms/step - loss: 6.6000 - mae: 6.6000\n",
      "Epoch 151/200\n",
      "1/1 [==============================] - 0s 2ms/step - loss: 6.5944 - mae: 6.5944\n",
      "Epoch 152/200\n",
      "1/1 [==============================] - 0s 2ms/step - loss: 6.5887 - mae: 6.5887\n",
      "Epoch 153/200\n",
      "1/1 [==============================] - 0s 3ms/step - loss: 6.5831 - mae: 6.5831\n",
      "Epoch 154/200\n",
      "1/1 [==============================] - 0s 2ms/step - loss: 6.5775 - mae: 6.5775\n",
      "Epoch 155/200\n",
      "1/1 [==============================] - 0s 998us/step - loss: 6.5719 - mae: 6.5719\n",
      "Epoch 156/200\n",
      "1/1 [==============================] - 0s 996us/step - loss: 6.5662 - mae: 6.5662\n",
      "Epoch 157/200\n",
      "1/1 [==============================] - 0s 3ms/step - loss: 6.5606 - mae: 6.5606\n",
      "Epoch 158/200\n",
      "1/1 [==============================] - 0s 2ms/step - loss: 6.5550 - mae: 6.5550\n",
      "Epoch 159/200\n",
      "1/1 [==============================] - 0s 998us/step - loss: 6.5494 - mae: 6.5494\n",
      "Epoch 160/200\n",
      "1/1 [==============================] - 0s 998us/step - loss: 6.5437 - mae: 6.5437\n",
      "Epoch 161/200\n",
      "1/1 [==============================] - 0s 2ms/step - loss: 6.5381 - mae: 6.5381\n",
      "Epoch 162/200\n",
      "1/1 [==============================] - 0s 997us/step - loss: 6.5325 - mae: 6.5325\n",
      "Epoch 163/200\n",
      "1/1 [==============================] - 0s 3ms/step - loss: 6.5269 - mae: 6.5269\n",
      "Epoch 164/200\n",
      "1/1 [==============================] - 0s 2ms/step - loss: 6.5212 - mae: 6.5212\n",
      "Epoch 165/200\n",
      "1/1 [==============================] - 0s 997us/step - loss: 6.5156 - mae: 6.5156\n",
      "Epoch 166/200\n",
      "1/1 [==============================] - 0s 2ms/step - loss: 6.5100 - mae: 6.5100\n",
      "Epoch 167/200\n",
      "1/1 [==============================] - 0s 2ms/step - loss: 6.5044 - mae: 6.5044\n",
      "Epoch 168/200\n",
      "1/1 [==============================] - 0s 996us/step - loss: 6.4987 - mae: 6.4987\n",
      "Epoch 169/200\n",
      "1/1 [==============================] - 0s 2ms/step - loss: 6.4931 - mae: 6.4931\n",
      "Epoch 170/200\n",
      "1/1 [==============================] - 0s 996us/step - loss: 6.4875 - mae: 6.4875\n",
      "Epoch 171/200\n",
      "1/1 [==============================] - 0s 2ms/step - loss: 6.4819 - mae: 6.4819\n",
      "Epoch 172/200\n",
      "1/1 [==============================] - 0s 2ms/step - loss: 6.4762 - mae: 6.4762\n",
      "Epoch 173/200\n",
      "1/1 [==============================] - 0s 4ms/step - loss: 6.4706 - mae: 6.4706\n",
      "Epoch 174/200\n",
      "1/1 [==============================] - 0s 2ms/step - loss: 6.4650 - mae: 6.4650\n",
      "Epoch 175/200\n",
      "1/1 [==============================] - 0s 996us/step - loss: 6.4594 - mae: 6.4594\n",
      "Epoch 176/200\n",
      "1/1 [==============================] - 0s 2ms/step - loss: 6.4537 - mae: 6.4537\n",
      "Epoch 177/200\n",
      "1/1 [==============================] - 0s 3ms/step - loss: 6.4481 - mae: 6.4481\n",
      "Epoch 178/200\n",
      "1/1 [==============================] - 0s 2ms/step - loss: 6.4425 - mae: 6.4425\n",
      "Epoch 179/200\n",
      "1/1 [==============================] - 0s 996us/step - loss: 6.4369 - mae: 6.4369\n",
      "Epoch 180/200\n",
      "1/1 [==============================] - 0s 996us/step - loss: 6.4312 - mae: 6.4312\n",
      "Epoch 181/200\n",
      "1/1 [==============================] - 0s 2ms/step - loss: 6.4256 - mae: 6.4256\n",
      "Epoch 182/200\n",
      "1/1 [==============================] - 0s 2ms/step - loss: 6.4200 - mae: 6.4200\n",
      "Epoch 183/200\n",
      "1/1 [==============================] - 0s 2ms/step - loss: 6.4144 - mae: 6.4144\n",
      "Epoch 184/200\n",
      "1/1 [==============================] - 0s 3ms/step - loss: 6.4087 - mae: 6.4087\n",
      "Epoch 185/200\n",
      "1/1 [==============================] - 0s 2ms/step - loss: 6.4031 - mae: 6.4031\n",
      "Epoch 186/200\n",
      "1/1 [==============================] - 0s 2ms/step - loss: 6.3975 - mae: 6.3975\n",
      "Epoch 187/200\n",
      "1/1 [==============================] - 0s 3ms/step - loss: 6.3919 - mae: 6.3919\n",
      "Epoch 188/200\n",
      "1/1 [==============================] - 0s 2ms/step - loss: 6.3862 - mae: 6.3862\n",
      "Epoch 189/200\n",
      "1/1 [==============================] - 0s 5ms/step - loss: 6.3806 - mae: 6.3806\n",
      "Epoch 190/200\n",
      "1/1 [==============================] - 0s 21ms/step - loss: 6.3750 - mae: 6.3750\n",
      "Epoch 191/200\n",
      "1/1 [==============================] - 0s 2ms/step - loss: 6.3694 - mae: 6.3694\n",
      "Epoch 192/200\n",
      "1/1 [==============================] - 0s 997us/step - loss: 6.3637 - mae: 6.3637\n",
      "Epoch 193/200\n",
      "1/1 [==============================] - 0s 2ms/step - loss: 6.3581 - mae: 6.3581\n",
      "Epoch 194/200\n",
      "1/1 [==============================] - 0s 997us/step - loss: 6.3525 - mae: 6.3525\n",
      "Epoch 195/200\n",
      "1/1 [==============================] - 0s 3ms/step - loss: 6.3469 - mae: 6.3469\n",
      "Epoch 196/200\n",
      "1/1 [==============================] - 0s 3ms/step - loss: 6.3412 - mae: 6.3412\n",
      "Epoch 197/200\n",
      "1/1 [==============================] - 0s 998us/step - loss: 6.3356 - mae: 6.3356\n",
      "Epoch 198/200\n",
      "1/1 [==============================] - 0s 997us/step - loss: 6.3300 - mae: 6.3300\n",
      "Epoch 199/200\n",
      "1/1 [==============================] - 0s 997us/step - loss: 6.3244 - mae: 6.3244\n",
      "Epoch 200/200\n",
      "1/1 [==============================] - 0s 2ms/step - loss: 6.3187 - mae: 6.3187\n"
     ]
    },
    {
     "output_type": "execute_result",
     "data": {
      "text/plain": [
       "<keras.callbacks.History at 0x1f9c0ec0e50>"
      ]
     },
     "metadata": {},
     "execution_count": 8
    }
   ],
   "metadata": {}
  },
  {
   "cell_type": "code",
   "execution_count": 9,
   "source": [
    "X, y"
   ],
   "outputs": [
    {
     "output_type": "execute_result",
     "data": {
      "text/plain": [
       "(array([-7., -4., -1.,  2.,  5.,  8., 11., 14.]),\n",
       " array([ 3.,  6.,  9., 12., 15., 18., 21., 24.]))"
      ]
     },
     "metadata": {},
     "execution_count": 9
    }
   ],
   "metadata": {}
  },
  {
   "cell_type": "code",
   "execution_count": 10,
   "source": [
    "model.predict([17.0])"
   ],
   "outputs": [
    {
     "output_type": "execute_result",
     "data": {
      "text/plain": [
       "array([[30.908516]], dtype=float32)"
      ]
     },
     "metadata": {},
     "execution_count": 10
    }
   ],
   "metadata": {}
  },
  {
   "cell_type": "markdown",
   "source": [
    "## 모델 평가 (Evaluating a model)\r\n",
    "## 일반적인 신경망을 만드는 과정\r\n",
    "## 모델 생성 -> 모델 평가 -> 평가를 기반으로 모델 수정 -> 모델 평가 -> 평가를 기반으로 모델 수정 ... 반복\r\n",
    "## 수정이라는 표현은 모델을 다시 만든다라고 하기 보다 기존 설정을 변경한다라는 의미\r\n",
    "## 시각화로 모델을 쉽고 직관적으로 평가를 하려합니다. "
   ],
   "metadata": {}
  },
  {
   "cell_type": "code",
   "execution_count": 11,
   "source": [
    "model.summary()"
   ],
   "outputs": [
    {
     "output_type": "stream",
     "name": "stdout",
     "text": [
      "Model: \"sequential_1\"\n",
      "_________________________________________________________________\n",
      "Layer (type)                 Output Shape              Param #   \n",
      "=================================================================\n",
      "dense_1 (Dense)              (None, 1)                 2         \n",
      "=================================================================\n",
      "Total params: 2\n",
      "Trainable params: 2\n",
      "Non-trainable params: 0\n",
      "_________________________________________________________________\n"
     ]
    }
   ],
   "metadata": {}
  },
  {
   "cell_type": "code",
   "execution_count": 12,
   "source": [
    "X = np.arange(-100, 100, 4)\r\n",
    "X"
   ],
   "outputs": [
    {
     "output_type": "execute_result",
     "data": {
      "text/plain": [
       "array([-100,  -96,  -92,  -88,  -84,  -80,  -76,  -72,  -68,  -64,  -60,\n",
       "        -56,  -52,  -48,  -44,  -40,  -36,  -32,  -28,  -24,  -20,  -16,\n",
       "        -12,   -8,   -4,    0,    4,    8,   12,   16,   20,   24,   28,\n",
       "         32,   36,   40,   44,   48,   52,   56,   60,   64,   68,   72,\n",
       "         76,   80,   84,   88,   92,   96])"
      ]
     },
     "metadata": {},
     "execution_count": 12
    }
   ],
   "metadata": {}
  },
  {
   "cell_type": "code",
   "execution_count": 13,
   "source": [
    "y = np.arange(-90, 110, 4)\r\n",
    "y"
   ],
   "outputs": [
    {
     "output_type": "execute_result",
     "data": {
      "text/plain": [
       "array([-90, -86, -82, -78, -74, -70, -66, -62, -58, -54, -50, -46, -42,\n",
       "       -38, -34, -30, -26, -22, -18, -14, -10,  -6,  -2,   2,   6,  10,\n",
       "        14,  18,  22,  26,  30,  34,  38,  42,  46,  50,  54,  58,  62,\n",
       "        66,  70,  74,  78,  82,  86,  90,  94,  98, 102, 106])"
      ]
     },
     "metadata": {},
     "execution_count": 13
    }
   ],
   "metadata": {}
  },
  {
   "cell_type": "code",
   "execution_count": 14,
   "source": [
    "y = X + 10\r\n",
    "y"
   ],
   "outputs": [
    {
     "output_type": "execute_result",
     "data": {
      "text/plain": [
       "array([-90, -86, -82, -78, -74, -70, -66, -62, -58, -54, -50, -46, -42,\n",
       "       -38, -34, -30, -26, -22, -18, -14, -10,  -6,  -2,   2,   6,  10,\n",
       "        14,  18,  22,  26,  30,  34,  38,  42,  46,  50,  54,  58,  62,\n",
       "        66,  70,  74,  78,  82,  86,  90,  94,  98, 102, 106])"
      ]
     },
     "metadata": {},
     "execution_count": 14
    }
   ],
   "metadata": {}
  },
  {
   "cell_type": "markdown",
   "source": [
    "## 전체 데이터를 학습 데이터 / 테스트 데이터로 나누기 (split)\r\n",
    "## 머신러닝 프로젝트에서 가장 일반적이고 중요한 단계 중에 하나!\r\n",
    "## 필요하다면 검증용 데이터도 필요!\r\n",
    "## Training Set : 이 데이터로 모델이 학습, 일반적으로 전체 데이터셋에서 약 70~80% 정도를 취한다. (학습) \r\n",
    "## Validation Set : 이 데이터로 학습 중인 모델을 검증, 일반적으로 약 10~15% 정도를 취한다. (모의고사) \r\n",
    "## Test Set : 이 데이터로 학습한 모델을 평가, 일반적으로 약 10~15% 정도를 취한다. (수능)"
   ],
   "metadata": {}
  },
  {
   "cell_type": "code",
   "execution_count": 15,
   "source": [
    "len(X), len(y)"
   ],
   "outputs": [
    {
     "output_type": "execute_result",
     "data": {
      "text/plain": [
       "(50, 50)"
      ]
     },
     "metadata": {},
     "execution_count": 15
    }
   ],
   "metadata": {}
  },
  {
   "cell_type": "code",
   "execution_count": 16,
   "source": [
    "X_train = X[:40]\r\n",
    "y_train = y[:40]\r\n",
    "\r\n",
    "X_test = X[40:]\r\n",
    "y_test = y[40:]\r\n",
    "\r\n",
    "len(X_train), len(X_test), len(y_train), len(y_test)"
   ],
   "outputs": [
    {
     "output_type": "execute_result",
     "data": {
      "text/plain": [
       "(40, 10, 40, 10)"
      ]
     },
     "metadata": {},
     "execution_count": 16
    }
   ],
   "metadata": {}
  },
  {
   "cell_type": "code",
   "execution_count": 18,
   "source": [
    "import matplotlib.pyplot as plt\r\n",
    "\r\n",
    "plt.figure(figsize = (10, 7))\r\n",
    "plt.scatter(X_train, y_train, c = \"b\", label = \"Training data\")\r\n",
    "plt.scatter(X_test, y_test, c = \"g\", label=\"Testing data\")\r\n",
    "plt.legend();"
   ],
   "outputs": [
    {
     "output_type": "display_data",
     "data": {
      "text/plain": [
       "<Figure size 720x504 with 1 Axes>"
      ],
      "image/svg+xml": "<?xml version=\"1.0\" encoding=\"utf-8\" standalone=\"no\"?>\r\n<!DOCTYPE svg PUBLIC \"-//W3C//DTD SVG 1.1//EN\"\r\n  \"http://www.w3.org/Graphics/SVG/1.1/DTD/svg11.dtd\">\r\n<svg height=\"411.598125pt\" version=\"1.1\" viewBox=\"0 0 600.504688 411.598125\" width=\"600.504688pt\" xmlns=\"http://www.w3.org/2000/svg\" xmlns:xlink=\"http://www.w3.org/1999/xlink\">\r\n <metadata>\r\n  <rdf:RDF xmlns:cc=\"http://creativecommons.org/ns#\" xmlns:dc=\"http://purl.org/dc/elements/1.1/\" xmlns:rdf=\"http://www.w3.org/1999/02/22-rdf-syntax-ns#\">\r\n   <cc:Work>\r\n    <dc:type rdf:resource=\"http://purl.org/dc/dcmitype/StillImage\"/>\r\n    <dc:date>2021-08-22T09:52:13.615944</dc:date>\r\n    <dc:format>image/svg+xml</dc:format>\r\n    <dc:creator>\r\n     <cc:Agent>\r\n      <dc:title>Matplotlib v3.4.3, https://matplotlib.org/</dc:title>\r\n     </cc:Agent>\r\n    </dc:creator>\r\n   </cc:Work>\r\n  </rdf:RDF>\r\n </metadata>\r\n <defs>\r\n  <style type=\"text/css\">*{stroke-linecap:butt;stroke-linejoin:round;}</style>\r\n </defs>\r\n <g id=\"figure_1\">\r\n  <g id=\"patch_1\">\r\n   <path d=\"M 0 411.598125 \r\nL 600.504688 411.598125 \r\nL 600.504688 0 \r\nL 0 0 \r\nz\r\n\" style=\"fill:none;\"/>\r\n  </g>\r\n  <g id=\"axes_1\">\r\n   <g id=\"patch_2\">\r\n    <path d=\"M 35.304688 387.72 \r\nL 593.304688 387.72 \r\nL 593.304688 7.2 \r\nL 35.304688 7.2 \r\nz\r\n\" style=\"fill:#ffffff;\"/>\r\n   </g>\r\n   <g id=\"PathCollection_1\">\r\n    <defs>\r\n     <path d=\"M 0 3 \r\nC 0.795609 3 1.55874 2.683901 2.12132 2.12132 \r\nC 2.683901 1.55874 3 0.795609 3 0 \r\nC 3 -0.795609 2.683901 -1.55874 2.12132 -2.12132 \r\nC 1.55874 -2.683901 0.795609 -3 0 -3 \r\nC -0.795609 -3 -1.55874 -2.683901 -2.12132 -2.12132 \r\nC -2.683901 -1.55874 -3 -0.795609 -3 0 \r\nC -3 0.795609 -2.683901 1.55874 -2.12132 2.12132 \r\nC -1.55874 2.683901 -0.795609 3 0 3 \r\nz\r\n\" id=\"mb60f82c5dd\" style=\"stroke:#0000ff;\"/>\r\n    </defs>\r\n    <g clip-path=\"url(#p593b19644b)\">\r\n     <use style=\"fill:#0000ff;stroke:#0000ff;\" x=\"60.668324\" xlink:href=\"#mb60f82c5dd\" y=\"370.423636\"/>\r\n     <use style=\"fill:#0000ff;stroke:#0000ff;\" x=\"71.020829\" xlink:href=\"#mb60f82c5dd\" y=\"363.363896\"/>\r\n     <use style=\"fill:#0000ff;stroke:#0000ff;\" x=\"81.373333\" xlink:href=\"#mb60f82c5dd\" y=\"356.304156\"/>\r\n     <use style=\"fill:#0000ff;stroke:#0000ff;\" x=\"91.725838\" xlink:href=\"#mb60f82c5dd\" y=\"349.244416\"/>\r\n     <use style=\"fill:#0000ff;stroke:#0000ff;\" x=\"102.078342\" xlink:href=\"#mb60f82c5dd\" y=\"342.184675\"/>\r\n     <use style=\"fill:#0000ff;stroke:#0000ff;\" x=\"112.430847\" xlink:href=\"#mb60f82c5dd\" y=\"335.124935\"/>\r\n     <use style=\"fill:#0000ff;stroke:#0000ff;\" x=\"122.783352\" xlink:href=\"#mb60f82c5dd\" y=\"328.065195\"/>\r\n     <use style=\"fill:#0000ff;stroke:#0000ff;\" x=\"133.135856\" xlink:href=\"#mb60f82c5dd\" y=\"321.005455\"/>\r\n     <use style=\"fill:#0000ff;stroke:#0000ff;\" x=\"143.488361\" xlink:href=\"#mb60f82c5dd\" y=\"313.945714\"/>\r\n     <use style=\"fill:#0000ff;stroke:#0000ff;\" x=\"153.840866\" xlink:href=\"#mb60f82c5dd\" y=\"306.885974\"/>\r\n     <use style=\"fill:#0000ff;stroke:#0000ff;\" x=\"164.19337\" xlink:href=\"#mb60f82c5dd\" y=\"299.826234\"/>\r\n     <use style=\"fill:#0000ff;stroke:#0000ff;\" x=\"174.545875\" xlink:href=\"#mb60f82c5dd\" y=\"292.766494\"/>\r\n     <use style=\"fill:#0000ff;stroke:#0000ff;\" x=\"184.89838\" xlink:href=\"#mb60f82c5dd\" y=\"285.706753\"/>\r\n     <use style=\"fill:#0000ff;stroke:#0000ff;\" x=\"195.250884\" xlink:href=\"#mb60f82c5dd\" y=\"278.647013\"/>\r\n     <use style=\"fill:#0000ff;stroke:#0000ff;\" x=\"205.603389\" xlink:href=\"#mb60f82c5dd\" y=\"271.587273\"/>\r\n     <use style=\"fill:#0000ff;stroke:#0000ff;\" x=\"215.955893\" xlink:href=\"#mb60f82c5dd\" y=\"264.527532\"/>\r\n     <use style=\"fill:#0000ff;stroke:#0000ff;\" x=\"226.308398\" xlink:href=\"#mb60f82c5dd\" y=\"257.467792\"/>\r\n     <use style=\"fill:#0000ff;stroke:#0000ff;\" x=\"236.660903\" xlink:href=\"#mb60f82c5dd\" y=\"250.408052\"/>\r\n     <use style=\"fill:#0000ff;stroke:#0000ff;\" x=\"247.013407\" xlink:href=\"#mb60f82c5dd\" y=\"243.348312\"/>\r\n     <use style=\"fill:#0000ff;stroke:#0000ff;\" x=\"257.365912\" xlink:href=\"#mb60f82c5dd\" y=\"236.288571\"/>\r\n     <use style=\"fill:#0000ff;stroke:#0000ff;\" x=\"267.718417\" xlink:href=\"#mb60f82c5dd\" y=\"229.228831\"/>\r\n     <use style=\"fill:#0000ff;stroke:#0000ff;\" x=\"278.070921\" xlink:href=\"#mb60f82c5dd\" y=\"222.169091\"/>\r\n     <use style=\"fill:#0000ff;stroke:#0000ff;\" x=\"288.423426\" xlink:href=\"#mb60f82c5dd\" y=\"215.109351\"/>\r\n     <use style=\"fill:#0000ff;stroke:#0000ff;\" x=\"298.775931\" xlink:href=\"#mb60f82c5dd\" y=\"208.04961\"/>\r\n     <use style=\"fill:#0000ff;stroke:#0000ff;\" x=\"309.128435\" xlink:href=\"#mb60f82c5dd\" y=\"200.98987\"/>\r\n     <use style=\"fill:#0000ff;stroke:#0000ff;\" x=\"319.48094\" xlink:href=\"#mb60f82c5dd\" y=\"193.93013\"/>\r\n     <use style=\"fill:#0000ff;stroke:#0000ff;\" x=\"329.833444\" xlink:href=\"#mb60f82c5dd\" y=\"186.87039\"/>\r\n     <use style=\"fill:#0000ff;stroke:#0000ff;\" x=\"340.185949\" xlink:href=\"#mb60f82c5dd\" y=\"179.810649\"/>\r\n     <use style=\"fill:#0000ff;stroke:#0000ff;\" x=\"350.538454\" xlink:href=\"#mb60f82c5dd\" y=\"172.750909\"/>\r\n     <use style=\"fill:#0000ff;stroke:#0000ff;\" x=\"360.890958\" xlink:href=\"#mb60f82c5dd\" y=\"165.691169\"/>\r\n     <use style=\"fill:#0000ff;stroke:#0000ff;\" x=\"371.243463\" xlink:href=\"#mb60f82c5dd\" y=\"158.631429\"/>\r\n     <use style=\"fill:#0000ff;stroke:#0000ff;\" x=\"381.595968\" xlink:href=\"#mb60f82c5dd\" y=\"151.571688\"/>\r\n     <use style=\"fill:#0000ff;stroke:#0000ff;\" x=\"391.948472\" xlink:href=\"#mb60f82c5dd\" y=\"144.511948\"/>\r\n     <use style=\"fill:#0000ff;stroke:#0000ff;\" x=\"402.300977\" xlink:href=\"#mb60f82c5dd\" y=\"137.452208\"/>\r\n     <use style=\"fill:#0000ff;stroke:#0000ff;\" x=\"412.653482\" xlink:href=\"#mb60f82c5dd\" y=\"130.392468\"/>\r\n     <use style=\"fill:#0000ff;stroke:#0000ff;\" x=\"423.005986\" xlink:href=\"#mb60f82c5dd\" y=\"123.332727\"/>\r\n     <use style=\"fill:#0000ff;stroke:#0000ff;\" x=\"433.358491\" xlink:href=\"#mb60f82c5dd\" y=\"116.272987\"/>\r\n     <use style=\"fill:#0000ff;stroke:#0000ff;\" x=\"443.710995\" xlink:href=\"#mb60f82c5dd\" y=\"109.213247\"/>\r\n     <use style=\"fill:#0000ff;stroke:#0000ff;\" x=\"454.0635\" xlink:href=\"#mb60f82c5dd\" y=\"102.153506\"/>\r\n     <use style=\"fill:#0000ff;stroke:#0000ff;\" x=\"464.416005\" xlink:href=\"#mb60f82c5dd\" y=\"95.093766\"/>\r\n    </g>\r\n   </g>\r\n   <g id=\"PathCollection_2\">\r\n    <defs>\r\n     <path d=\"M 0 3 \r\nC 0.795609 3 1.55874 2.683901 2.12132 2.12132 \r\nC 2.683901 1.55874 3 0.795609 3 0 \r\nC 3 -0.795609 2.683901 -1.55874 2.12132 -2.12132 \r\nC 1.55874 -2.683901 0.795609 -3 0 -3 \r\nC -0.795609 -3 -1.55874 -2.683901 -2.12132 -2.12132 \r\nC -2.683901 -1.55874 -3 -0.795609 -3 0 \r\nC -3 0.795609 -2.683901 1.55874 -2.12132 2.12132 \r\nC -1.55874 2.683901 -0.795609 3 0 3 \r\nz\r\n\" id=\"m66fe22b1b0\" style=\"stroke:#008000;\"/>\r\n    </defs>\r\n    <g clip-path=\"url(#p593b19644b)\">\r\n     <use style=\"fill:#008000;stroke:#008000;\" x=\"474.768509\" xlink:href=\"#m66fe22b1b0\" y=\"88.034026\"/>\r\n     <use style=\"fill:#008000;stroke:#008000;\" x=\"485.121014\" xlink:href=\"#m66fe22b1b0\" y=\"80.974286\"/>\r\n     <use style=\"fill:#008000;stroke:#008000;\" x=\"495.473519\" xlink:href=\"#m66fe22b1b0\" y=\"73.914545\"/>\r\n     <use style=\"fill:#008000;stroke:#008000;\" x=\"505.826023\" xlink:href=\"#m66fe22b1b0\" y=\"66.854805\"/>\r\n     <use style=\"fill:#008000;stroke:#008000;\" x=\"516.178528\" xlink:href=\"#m66fe22b1b0\" y=\"59.795065\"/>\r\n     <use style=\"fill:#008000;stroke:#008000;\" x=\"526.531033\" xlink:href=\"#m66fe22b1b0\" y=\"52.735325\"/>\r\n     <use style=\"fill:#008000;stroke:#008000;\" x=\"536.883537\" xlink:href=\"#m66fe22b1b0\" y=\"45.675584\"/>\r\n     <use style=\"fill:#008000;stroke:#008000;\" x=\"547.236042\" xlink:href=\"#m66fe22b1b0\" y=\"38.615844\"/>\r\n     <use style=\"fill:#008000;stroke:#008000;\" x=\"557.588546\" xlink:href=\"#m66fe22b1b0\" y=\"31.556104\"/>\r\n     <use style=\"fill:#008000;stroke:#008000;\" x=\"567.941051\" xlink:href=\"#m66fe22b1b0\" y=\"24.496364\"/>\r\n    </g>\r\n   </g>\r\n   <g id=\"matplotlib.axis_1\">\r\n    <g id=\"xtick_1\">\r\n     <g id=\"line2d_1\">\r\n      <defs>\r\n       <path d=\"M 0 0 \r\nL 0 3.5 \r\n\" id=\"mbbfd77a8ec\" style=\"stroke:#000000;stroke-width:0.8;\"/>\r\n      </defs>\r\n      <g>\r\n       <use style=\"stroke:#000000;stroke-width:0.8;\" x=\"60.668324\" xlink:href=\"#mbbfd77a8ec\" y=\"387.72\"/>\r\n      </g>\r\n     </g>\r\n     <g id=\"text_1\">\r\n      <!-- −100 -->\r\n      <g transform=\"translate(46.93473 402.318437)scale(0.1 -0.1)\">\r\n       <defs>\r\n        <path d=\"M 678 2272 \r\nL 4684 2272 \r\nL 4684 1741 \r\nL 678 1741 \r\nL 678 2272 \r\nz\r\n\" id=\"DejaVuSans-2212\" transform=\"scale(0.015625)\"/>\r\n        <path d=\"M 794 531 \r\nL 1825 531 \r\nL 1825 4091 \r\nL 703 3866 \r\nL 703 4441 \r\nL 1819 4666 \r\nL 2450 4666 \r\nL 2450 531 \r\nL 3481 531 \r\nL 3481 0 \r\nL 794 0 \r\nL 794 531 \r\nz\r\n\" id=\"DejaVuSans-31\" transform=\"scale(0.015625)\"/>\r\n        <path d=\"M 2034 4250 \r\nQ 1547 4250 1301 3770 \r\nQ 1056 3291 1056 2328 \r\nQ 1056 1369 1301 889 \r\nQ 1547 409 2034 409 \r\nQ 2525 409 2770 889 \r\nQ 3016 1369 3016 2328 \r\nQ 3016 3291 2770 3770 \r\nQ 2525 4250 2034 4250 \r\nz\r\nM 2034 4750 \r\nQ 2819 4750 3233 4129 \r\nQ 3647 3509 3647 2328 \r\nQ 3647 1150 3233 529 \r\nQ 2819 -91 2034 -91 \r\nQ 1250 -91 836 529 \r\nQ 422 1150 422 2328 \r\nQ 422 3509 836 4129 \r\nQ 1250 4750 2034 4750 \r\nz\r\n\" id=\"DejaVuSans-30\" transform=\"scale(0.015625)\"/>\r\n       </defs>\r\n       <use xlink:href=\"#DejaVuSans-2212\"/>\r\n       <use x=\"83.789062\" xlink:href=\"#DejaVuSans-31\"/>\r\n       <use x=\"147.412109\" xlink:href=\"#DejaVuSans-30\"/>\r\n       <use x=\"211.035156\" xlink:href=\"#DejaVuSans-30\"/>\r\n      </g>\r\n     </g>\r\n    </g>\r\n    <g id=\"xtick_2\">\r\n     <g id=\"line2d_2\">\r\n      <g>\r\n       <use style=\"stroke:#000000;stroke-width:0.8;\" x=\"125.371478\" xlink:href=\"#mbbfd77a8ec\" y=\"387.72\"/>\r\n      </g>\r\n     </g>\r\n     <g id=\"text_2\">\r\n      <!-- −75 -->\r\n      <g transform=\"translate(114.819134 402.318437)scale(0.1 -0.1)\">\r\n       <defs>\r\n        <path d=\"M 525 4666 \r\nL 3525 4666 \r\nL 3525 4397 \r\nL 1831 0 \r\nL 1172 0 \r\nL 2766 4134 \r\nL 525 4134 \r\nL 525 4666 \r\nz\r\n\" id=\"DejaVuSans-37\" transform=\"scale(0.015625)\"/>\r\n        <path d=\"M 691 4666 \r\nL 3169 4666 \r\nL 3169 4134 \r\nL 1269 4134 \r\nL 1269 2991 \r\nQ 1406 3038 1543 3061 \r\nQ 1681 3084 1819 3084 \r\nQ 2600 3084 3056 2656 \r\nQ 3513 2228 3513 1497 \r\nQ 3513 744 3044 326 \r\nQ 2575 -91 1722 -91 \r\nQ 1428 -91 1123 -41 \r\nQ 819 9 494 109 \r\nL 494 744 \r\nQ 775 591 1075 516 \r\nQ 1375 441 1709 441 \r\nQ 2250 441 2565 725 \r\nQ 2881 1009 2881 1497 \r\nQ 2881 1984 2565 2268 \r\nQ 2250 2553 1709 2553 \r\nQ 1456 2553 1204 2497 \r\nQ 953 2441 691 2322 \r\nL 691 4666 \r\nz\r\n\" id=\"DejaVuSans-35\" transform=\"scale(0.015625)\"/>\r\n       </defs>\r\n       <use xlink:href=\"#DejaVuSans-2212\"/>\r\n       <use x=\"83.789062\" xlink:href=\"#DejaVuSans-37\"/>\r\n       <use x=\"147.412109\" xlink:href=\"#DejaVuSans-35\"/>\r\n      </g>\r\n     </g>\r\n    </g>\r\n    <g id=\"xtick_3\">\r\n     <g id=\"line2d_3\">\r\n      <g>\r\n       <use style=\"stroke:#000000;stroke-width:0.8;\" x=\"190.074632\" xlink:href=\"#mbbfd77a8ec\" y=\"387.72\"/>\r\n      </g>\r\n     </g>\r\n     <g id=\"text_3\">\r\n      <!-- −50 -->\r\n      <g transform=\"translate(179.522288 402.318437)scale(0.1 -0.1)\">\r\n       <use xlink:href=\"#DejaVuSans-2212\"/>\r\n       <use x=\"83.789062\" xlink:href=\"#DejaVuSans-35\"/>\r\n       <use x=\"147.412109\" xlink:href=\"#DejaVuSans-30\"/>\r\n      </g>\r\n     </g>\r\n    </g>\r\n    <g id=\"xtick_4\">\r\n     <g id=\"line2d_4\">\r\n      <g>\r\n       <use style=\"stroke:#000000;stroke-width:0.8;\" x=\"254.777786\" xlink:href=\"#mbbfd77a8ec\" y=\"387.72\"/>\r\n      </g>\r\n     </g>\r\n     <g id=\"text_4\">\r\n      <!-- −25 -->\r\n      <g transform=\"translate(244.225442 402.318437)scale(0.1 -0.1)\">\r\n       <defs>\r\n        <path d=\"M 1228 531 \r\nL 3431 531 \r\nL 3431 0 \r\nL 469 0 \r\nL 469 531 \r\nQ 828 903 1448 1529 \r\nQ 2069 2156 2228 2338 \r\nQ 2531 2678 2651 2914 \r\nQ 2772 3150 2772 3378 \r\nQ 2772 3750 2511 3984 \r\nQ 2250 4219 1831 4219 \r\nQ 1534 4219 1204 4116 \r\nQ 875 4013 500 3803 \r\nL 500 4441 \r\nQ 881 4594 1212 4672 \r\nQ 1544 4750 1819 4750 \r\nQ 2544 4750 2975 4387 \r\nQ 3406 4025 3406 3419 \r\nQ 3406 3131 3298 2873 \r\nQ 3191 2616 2906 2266 \r\nQ 2828 2175 2409 1742 \r\nQ 1991 1309 1228 531 \r\nz\r\n\" id=\"DejaVuSans-32\" transform=\"scale(0.015625)\"/>\r\n       </defs>\r\n       <use xlink:href=\"#DejaVuSans-2212\"/>\r\n       <use x=\"83.789062\" xlink:href=\"#DejaVuSans-32\"/>\r\n       <use x=\"147.412109\" xlink:href=\"#DejaVuSans-35\"/>\r\n      </g>\r\n     </g>\r\n    </g>\r\n    <g id=\"xtick_5\">\r\n     <g id=\"line2d_5\">\r\n      <g>\r\n       <use style=\"stroke:#000000;stroke-width:0.8;\" x=\"319.48094\" xlink:href=\"#mbbfd77a8ec\" y=\"387.72\"/>\r\n      </g>\r\n     </g>\r\n     <g id=\"text_5\">\r\n      <!-- 0 -->\r\n      <g transform=\"translate(316.29969 402.318437)scale(0.1 -0.1)\">\r\n       <use xlink:href=\"#DejaVuSans-30\"/>\r\n      </g>\r\n     </g>\r\n    </g>\r\n    <g id=\"xtick_6\">\r\n     <g id=\"line2d_6\">\r\n      <g>\r\n       <use style=\"stroke:#000000;stroke-width:0.8;\" x=\"384.184094\" xlink:href=\"#mbbfd77a8ec\" y=\"387.72\"/>\r\n      </g>\r\n     </g>\r\n     <g id=\"text_6\">\r\n      <!-- 25 -->\r\n      <g transform=\"translate(377.821594 402.318437)scale(0.1 -0.1)\">\r\n       <use xlink:href=\"#DejaVuSans-32\"/>\r\n       <use x=\"63.623047\" xlink:href=\"#DejaVuSans-35\"/>\r\n      </g>\r\n     </g>\r\n    </g>\r\n    <g id=\"xtick_7\">\r\n     <g id=\"line2d_7\">\r\n      <g>\r\n       <use style=\"stroke:#000000;stroke-width:0.8;\" x=\"448.887248\" xlink:href=\"#mbbfd77a8ec\" y=\"387.72\"/>\r\n      </g>\r\n     </g>\r\n     <g id=\"text_7\">\r\n      <!-- 50 -->\r\n      <g transform=\"translate(442.524748 402.318437)scale(0.1 -0.1)\">\r\n       <use xlink:href=\"#DejaVuSans-35\"/>\r\n       <use x=\"63.623047\" xlink:href=\"#DejaVuSans-30\"/>\r\n      </g>\r\n     </g>\r\n    </g>\r\n    <g id=\"xtick_8\">\r\n     <g id=\"line2d_8\">\r\n      <g>\r\n       <use style=\"stroke:#000000;stroke-width:0.8;\" x=\"513.590402\" xlink:href=\"#mbbfd77a8ec\" y=\"387.72\"/>\r\n      </g>\r\n     </g>\r\n     <g id=\"text_8\">\r\n      <!-- 75 -->\r\n      <g transform=\"translate(507.227902 402.318437)scale(0.1 -0.1)\">\r\n       <use xlink:href=\"#DejaVuSans-37\"/>\r\n       <use x=\"63.623047\" xlink:href=\"#DejaVuSans-35\"/>\r\n      </g>\r\n     </g>\r\n    </g>\r\n    <g id=\"xtick_9\">\r\n     <g id=\"line2d_9\">\r\n      <g>\r\n       <use style=\"stroke:#000000;stroke-width:0.8;\" x=\"578.293556\" xlink:href=\"#mbbfd77a8ec\" y=\"387.72\"/>\r\n      </g>\r\n     </g>\r\n     <g id=\"text_9\">\r\n      <!-- 100 -->\r\n      <g transform=\"translate(568.749806 402.318437)scale(0.1 -0.1)\">\r\n       <use xlink:href=\"#DejaVuSans-31\"/>\r\n       <use x=\"63.623047\" xlink:href=\"#DejaVuSans-30\"/>\r\n       <use x=\"127.246094\" xlink:href=\"#DejaVuSans-30\"/>\r\n      </g>\r\n     </g>\r\n    </g>\r\n   </g>\r\n   <g id=\"matplotlib.axis_2\">\r\n    <g id=\"ytick_1\">\r\n     <g id=\"line2d_10\">\r\n      <defs>\r\n       <path d=\"M 0 0 \r\nL -3.5 0 \r\n\" id=\"me816a3e704\" style=\"stroke:#000000;stroke-width:0.8;\"/>\r\n      </defs>\r\n      <g>\r\n       <use style=\"stroke:#000000;stroke-width:0.8;\" x=\"35.304688\" xlink:href=\"#me816a3e704\" y=\"343.94961\"/>\r\n      </g>\r\n     </g>\r\n     <g id=\"text_10\">\r\n      <!-- −75 -->\r\n      <g transform=\"translate(7.2 347.748829)scale(0.1 -0.1)\">\r\n       <use xlink:href=\"#DejaVuSans-2212\"/>\r\n       <use x=\"83.789062\" xlink:href=\"#DejaVuSans-37\"/>\r\n       <use x=\"147.412109\" xlink:href=\"#DejaVuSans-35\"/>\r\n      </g>\r\n     </g>\r\n    </g>\r\n    <g id=\"ytick_2\">\r\n     <g id=\"line2d_11\">\r\n      <g>\r\n       <use style=\"stroke:#000000;stroke-width:0.8;\" x=\"35.304688\" xlink:href=\"#me816a3e704\" y=\"299.826234\"/>\r\n      </g>\r\n     </g>\r\n     <g id=\"text_11\">\r\n      <!-- −50 -->\r\n      <g transform=\"translate(7.2 303.625453)scale(0.1 -0.1)\">\r\n       <use xlink:href=\"#DejaVuSans-2212\"/>\r\n       <use x=\"83.789062\" xlink:href=\"#DejaVuSans-35\"/>\r\n       <use x=\"147.412109\" xlink:href=\"#DejaVuSans-30\"/>\r\n      </g>\r\n     </g>\r\n    </g>\r\n    <g id=\"ytick_3\">\r\n     <g id=\"line2d_12\">\r\n      <g>\r\n       <use style=\"stroke:#000000;stroke-width:0.8;\" x=\"35.304688\" xlink:href=\"#me816a3e704\" y=\"255.702857\"/>\r\n      </g>\r\n     </g>\r\n     <g id=\"text_12\">\r\n      <!-- −25 -->\r\n      <g transform=\"translate(7.2 259.502076)scale(0.1 -0.1)\">\r\n       <use xlink:href=\"#DejaVuSans-2212\"/>\r\n       <use x=\"83.789062\" xlink:href=\"#DejaVuSans-32\"/>\r\n       <use x=\"147.412109\" xlink:href=\"#DejaVuSans-35\"/>\r\n      </g>\r\n     </g>\r\n    </g>\r\n    <g id=\"ytick_4\">\r\n     <g id=\"line2d_13\">\r\n      <g>\r\n       <use style=\"stroke:#000000;stroke-width:0.8;\" x=\"35.304688\" xlink:href=\"#me816a3e704\" y=\"211.579481\"/>\r\n      </g>\r\n     </g>\r\n     <g id=\"text_13\">\r\n      <!-- 0 -->\r\n      <g transform=\"translate(21.942187 215.378699)scale(0.1 -0.1)\">\r\n       <use xlink:href=\"#DejaVuSans-30\"/>\r\n      </g>\r\n     </g>\r\n    </g>\r\n    <g id=\"ytick_5\">\r\n     <g id=\"line2d_14\">\r\n      <g>\r\n       <use style=\"stroke:#000000;stroke-width:0.8;\" x=\"35.304688\" xlink:href=\"#me816a3e704\" y=\"167.456104\"/>\r\n      </g>\r\n     </g>\r\n     <g id=\"text_14\">\r\n      <!-- 25 -->\r\n      <g transform=\"translate(15.579687 171.255323)scale(0.1 -0.1)\">\r\n       <use xlink:href=\"#DejaVuSans-32\"/>\r\n       <use x=\"63.623047\" xlink:href=\"#DejaVuSans-35\"/>\r\n      </g>\r\n     </g>\r\n    </g>\r\n    <g id=\"ytick_6\">\r\n     <g id=\"line2d_15\">\r\n      <g>\r\n       <use style=\"stroke:#000000;stroke-width:0.8;\" x=\"35.304688\" xlink:href=\"#me816a3e704\" y=\"123.332727\"/>\r\n      </g>\r\n     </g>\r\n     <g id=\"text_15\">\r\n      <!-- 50 -->\r\n      <g transform=\"translate(15.579687 127.131946)scale(0.1 -0.1)\">\r\n       <use xlink:href=\"#DejaVuSans-35\"/>\r\n       <use x=\"63.623047\" xlink:href=\"#DejaVuSans-30\"/>\r\n      </g>\r\n     </g>\r\n    </g>\r\n    <g id=\"ytick_7\">\r\n     <g id=\"line2d_16\">\r\n      <g>\r\n       <use style=\"stroke:#000000;stroke-width:0.8;\" x=\"35.304688\" xlink:href=\"#me816a3e704\" y=\"79.209351\"/>\r\n      </g>\r\n     </g>\r\n     <g id=\"text_16\">\r\n      <!-- 75 -->\r\n      <g transform=\"translate(15.579687 83.008569)scale(0.1 -0.1)\">\r\n       <use xlink:href=\"#DejaVuSans-37\"/>\r\n       <use x=\"63.623047\" xlink:href=\"#DejaVuSans-35\"/>\r\n      </g>\r\n     </g>\r\n    </g>\r\n    <g id=\"ytick_8\">\r\n     <g id=\"line2d_17\">\r\n      <g>\r\n       <use style=\"stroke:#000000;stroke-width:0.8;\" x=\"35.304688\" xlink:href=\"#me816a3e704\" y=\"35.085974\"/>\r\n      </g>\r\n     </g>\r\n     <g id=\"text_17\">\r\n      <!-- 100 -->\r\n      <g transform=\"translate(9.217187 38.885193)scale(0.1 -0.1)\">\r\n       <use xlink:href=\"#DejaVuSans-31\"/>\r\n       <use x=\"63.623047\" xlink:href=\"#DejaVuSans-30\"/>\r\n       <use x=\"127.246094\" xlink:href=\"#DejaVuSans-30\"/>\r\n      </g>\r\n     </g>\r\n    </g>\r\n   </g>\r\n   <g id=\"patch_3\">\r\n    <path d=\"M 35.304688 387.72 \r\nL 35.304688 7.2 \r\n\" style=\"fill:none;stroke:#000000;stroke-linecap:square;stroke-linejoin:miter;stroke-width:0.8;\"/>\r\n   </g>\r\n   <g id=\"patch_4\">\r\n    <path d=\"M 593.304688 387.72 \r\nL 593.304688 7.2 \r\n\" style=\"fill:none;stroke:#000000;stroke-linecap:square;stroke-linejoin:miter;stroke-width:0.8;\"/>\r\n   </g>\r\n   <g id=\"patch_5\">\r\n    <path d=\"M 35.304688 387.72 \r\nL 593.304688 387.72 \r\n\" style=\"fill:none;stroke:#000000;stroke-linecap:square;stroke-linejoin:miter;stroke-width:0.8;\"/>\r\n   </g>\r\n   <g id=\"patch_6\">\r\n    <path d=\"M 35.304688 7.2 \r\nL 593.304688 7.2 \r\n\" style=\"fill:none;stroke:#000000;stroke-linecap:square;stroke-linejoin:miter;stroke-width:0.8;\"/>\r\n   </g>\r\n   <g id=\"legend_1\">\r\n    <g id=\"patch_7\">\r\n     <path d=\"M 42.304688 44.55625 \r\nL 139.459375 44.55625 \r\nQ 141.459375 44.55625 141.459375 42.55625 \r\nL 141.459375 14.2 \r\nQ 141.459375 12.2 139.459375 12.2 \r\nL 42.304688 12.2 \r\nQ 40.304688 12.2 40.304688 14.2 \r\nL 40.304688 42.55625 \r\nQ 40.304688 44.55625 42.304688 44.55625 \r\nz\r\n\" style=\"fill:#ffffff;opacity:0.8;stroke:#cccccc;stroke-linejoin:miter;\"/>\r\n    </g>\r\n    <g id=\"PathCollection_3\">\r\n     <g>\r\n      <use style=\"fill:#0000ff;stroke:#0000ff;\" x=\"54.304688\" xlink:href=\"#mb60f82c5dd\" y=\"21.173437\"/>\r\n     </g>\r\n    </g>\r\n    <g id=\"text_18\">\r\n     <!-- Training data -->\r\n     <g transform=\"translate(72.304688 23.798437)scale(0.1 -0.1)\">\r\n      <defs>\r\n       <path d=\"M -19 4666 \r\nL 3928 4666 \r\nL 3928 4134 \r\nL 2272 4134 \r\nL 2272 0 \r\nL 1638 0 \r\nL 1638 4134 \r\nL -19 4134 \r\nL -19 4666 \r\nz\r\n\" id=\"DejaVuSans-54\" transform=\"scale(0.015625)\"/>\r\n       <path d=\"M 2631 2963 \r\nQ 2534 3019 2420 3045 \r\nQ 2306 3072 2169 3072 \r\nQ 1681 3072 1420 2755 \r\nQ 1159 2438 1159 1844 \r\nL 1159 0 \r\nL 581 0 \r\nL 581 3500 \r\nL 1159 3500 \r\nL 1159 2956 \r\nQ 1341 3275 1631 3429 \r\nQ 1922 3584 2338 3584 \r\nQ 2397 3584 2469 3576 \r\nQ 2541 3569 2628 3553 \r\nL 2631 2963 \r\nz\r\n\" id=\"DejaVuSans-72\" transform=\"scale(0.015625)\"/>\r\n       <path d=\"M 2194 1759 \r\nQ 1497 1759 1228 1600 \r\nQ 959 1441 959 1056 \r\nQ 959 750 1161 570 \r\nQ 1363 391 1709 391 \r\nQ 2188 391 2477 730 \r\nQ 2766 1069 2766 1631 \r\nL 2766 1759 \r\nL 2194 1759 \r\nz\r\nM 3341 1997 \r\nL 3341 0 \r\nL 2766 0 \r\nL 2766 531 \r\nQ 2569 213 2275 61 \r\nQ 1981 -91 1556 -91 \r\nQ 1019 -91 701 211 \r\nQ 384 513 384 1019 \r\nQ 384 1609 779 1909 \r\nQ 1175 2209 1959 2209 \r\nL 2766 2209 \r\nL 2766 2266 \r\nQ 2766 2663 2505 2880 \r\nQ 2244 3097 1772 3097 \r\nQ 1472 3097 1187 3025 \r\nQ 903 2953 641 2809 \r\nL 641 3341 \r\nQ 956 3463 1253 3523 \r\nQ 1550 3584 1831 3584 \r\nQ 2591 3584 2966 3190 \r\nQ 3341 2797 3341 1997 \r\nz\r\n\" id=\"DejaVuSans-61\" transform=\"scale(0.015625)\"/>\r\n       <path d=\"M 603 3500 \r\nL 1178 3500 \r\nL 1178 0 \r\nL 603 0 \r\nL 603 3500 \r\nz\r\nM 603 4863 \r\nL 1178 4863 \r\nL 1178 4134 \r\nL 603 4134 \r\nL 603 4863 \r\nz\r\n\" id=\"DejaVuSans-69\" transform=\"scale(0.015625)\"/>\r\n       <path d=\"M 3513 2113 \r\nL 3513 0 \r\nL 2938 0 \r\nL 2938 2094 \r\nQ 2938 2591 2744 2837 \r\nQ 2550 3084 2163 3084 \r\nQ 1697 3084 1428 2787 \r\nQ 1159 2491 1159 1978 \r\nL 1159 0 \r\nL 581 0 \r\nL 581 3500 \r\nL 1159 3500 \r\nL 1159 2956 \r\nQ 1366 3272 1645 3428 \r\nQ 1925 3584 2291 3584 \r\nQ 2894 3584 3203 3211 \r\nQ 3513 2838 3513 2113 \r\nz\r\n\" id=\"DejaVuSans-6e\" transform=\"scale(0.015625)\"/>\r\n       <path d=\"M 2906 1791 \r\nQ 2906 2416 2648 2759 \r\nQ 2391 3103 1925 3103 \r\nQ 1463 3103 1205 2759 \r\nQ 947 2416 947 1791 \r\nQ 947 1169 1205 825 \r\nQ 1463 481 1925 481 \r\nQ 2391 481 2648 825 \r\nQ 2906 1169 2906 1791 \r\nz\r\nM 3481 434 \r\nQ 3481 -459 3084 -895 \r\nQ 2688 -1331 1869 -1331 \r\nQ 1566 -1331 1297 -1286 \r\nQ 1028 -1241 775 -1147 \r\nL 775 -588 \r\nQ 1028 -725 1275 -790 \r\nQ 1522 -856 1778 -856 \r\nQ 2344 -856 2625 -561 \r\nQ 2906 -266 2906 331 \r\nL 2906 616 \r\nQ 2728 306 2450 153 \r\nQ 2172 0 1784 0 \r\nQ 1141 0 747 490 \r\nQ 353 981 353 1791 \r\nQ 353 2603 747 3093 \r\nQ 1141 3584 1784 3584 \r\nQ 2172 3584 2450 3431 \r\nQ 2728 3278 2906 2969 \r\nL 2906 3500 \r\nL 3481 3500 \r\nL 3481 434 \r\nz\r\n\" id=\"DejaVuSans-67\" transform=\"scale(0.015625)\"/>\r\n       <path id=\"DejaVuSans-20\" transform=\"scale(0.015625)\"/>\r\n       <path d=\"M 2906 2969 \r\nL 2906 4863 \r\nL 3481 4863 \r\nL 3481 0 \r\nL 2906 0 \r\nL 2906 525 \r\nQ 2725 213 2448 61 \r\nQ 2172 -91 1784 -91 \r\nQ 1150 -91 751 415 \r\nQ 353 922 353 1747 \r\nQ 353 2572 751 3078 \r\nQ 1150 3584 1784 3584 \r\nQ 2172 3584 2448 3432 \r\nQ 2725 3281 2906 2969 \r\nz\r\nM 947 1747 \r\nQ 947 1113 1208 752 \r\nQ 1469 391 1925 391 \r\nQ 2381 391 2643 752 \r\nQ 2906 1113 2906 1747 \r\nQ 2906 2381 2643 2742 \r\nQ 2381 3103 1925 3103 \r\nQ 1469 3103 1208 2742 \r\nQ 947 2381 947 1747 \r\nz\r\n\" id=\"DejaVuSans-64\" transform=\"scale(0.015625)\"/>\r\n       <path d=\"M 1172 4494 \r\nL 1172 3500 \r\nL 2356 3500 \r\nL 2356 3053 \r\nL 1172 3053 \r\nL 1172 1153 \r\nQ 1172 725 1289 603 \r\nQ 1406 481 1766 481 \r\nL 2356 481 \r\nL 2356 0 \r\nL 1766 0 \r\nQ 1100 0 847 248 \r\nQ 594 497 594 1153 \r\nL 594 3053 \r\nL 172 3053 \r\nL 172 3500 \r\nL 594 3500 \r\nL 594 4494 \r\nL 1172 4494 \r\nz\r\n\" id=\"DejaVuSans-74\" transform=\"scale(0.015625)\"/>\r\n      </defs>\r\n      <use xlink:href=\"#DejaVuSans-54\"/>\r\n      <use x=\"46.333984\" xlink:href=\"#DejaVuSans-72\"/>\r\n      <use x=\"87.447266\" xlink:href=\"#DejaVuSans-61\"/>\r\n      <use x=\"148.726562\" xlink:href=\"#DejaVuSans-69\"/>\r\n      <use x=\"176.509766\" xlink:href=\"#DejaVuSans-6e\"/>\r\n      <use x=\"239.888672\" xlink:href=\"#DejaVuSans-69\"/>\r\n      <use x=\"267.671875\" xlink:href=\"#DejaVuSans-6e\"/>\r\n      <use x=\"331.050781\" xlink:href=\"#DejaVuSans-67\"/>\r\n      <use x=\"394.527344\" xlink:href=\"#DejaVuSans-20\"/>\r\n      <use x=\"426.314453\" xlink:href=\"#DejaVuSans-64\"/>\r\n      <use x=\"489.791016\" xlink:href=\"#DejaVuSans-61\"/>\r\n      <use x=\"551.070312\" xlink:href=\"#DejaVuSans-74\"/>\r\n      <use x=\"590.279297\" xlink:href=\"#DejaVuSans-61\"/>\r\n     </g>\r\n    </g>\r\n    <g id=\"PathCollection_4\">\r\n     <g>\r\n      <use style=\"fill:#008000;stroke:#008000;\" x=\"54.304688\" xlink:href=\"#m66fe22b1b0\" y=\"35.851562\"/>\r\n     </g>\r\n    </g>\r\n    <g id=\"text_19\">\r\n     <!-- Testing data -->\r\n     <g transform=\"translate(72.304688 38.476562)scale(0.1 -0.1)\">\r\n      <defs>\r\n       <path d=\"M 3597 1894 \r\nL 3597 1613 \r\nL 953 1613 \r\nQ 991 1019 1311 708 \r\nQ 1631 397 2203 397 \r\nQ 2534 397 2845 478 \r\nQ 3156 559 3463 722 \r\nL 3463 178 \r\nQ 3153 47 2828 -22 \r\nQ 2503 -91 2169 -91 \r\nQ 1331 -91 842 396 \r\nQ 353 884 353 1716 \r\nQ 353 2575 817 3079 \r\nQ 1281 3584 2069 3584 \r\nQ 2775 3584 3186 3129 \r\nQ 3597 2675 3597 1894 \r\nz\r\nM 3022 2063 \r\nQ 3016 2534 2758 2815 \r\nQ 2500 3097 2075 3097 \r\nQ 1594 3097 1305 2825 \r\nQ 1016 2553 972 2059 \r\nL 3022 2063 \r\nz\r\n\" id=\"DejaVuSans-65\" transform=\"scale(0.015625)\"/>\r\n       <path d=\"M 2834 3397 \r\nL 2834 2853 \r\nQ 2591 2978 2328 3040 \r\nQ 2066 3103 1784 3103 \r\nQ 1356 3103 1142 2972 \r\nQ 928 2841 928 2578 \r\nQ 928 2378 1081 2264 \r\nQ 1234 2150 1697 2047 \r\nL 1894 2003 \r\nQ 2506 1872 2764 1633 \r\nQ 3022 1394 3022 966 \r\nQ 3022 478 2636 193 \r\nQ 2250 -91 1575 -91 \r\nQ 1294 -91 989 -36 \r\nQ 684 19 347 128 \r\nL 347 722 \r\nQ 666 556 975 473 \r\nQ 1284 391 1588 391 \r\nQ 1994 391 2212 530 \r\nQ 2431 669 2431 922 \r\nQ 2431 1156 2273 1281 \r\nQ 2116 1406 1581 1522 \r\nL 1381 1569 \r\nQ 847 1681 609 1914 \r\nQ 372 2147 372 2553 \r\nQ 372 3047 722 3315 \r\nQ 1072 3584 1716 3584 \r\nQ 2034 3584 2315 3537 \r\nQ 2597 3491 2834 3397 \r\nz\r\n\" id=\"DejaVuSans-73\" transform=\"scale(0.015625)\"/>\r\n      </defs>\r\n      <use xlink:href=\"#DejaVuSans-54\"/>\r\n      <use x=\"44.083984\" xlink:href=\"#DejaVuSans-65\"/>\r\n      <use x=\"105.607422\" xlink:href=\"#DejaVuSans-73\"/>\r\n      <use x=\"157.707031\" xlink:href=\"#DejaVuSans-74\"/>\r\n      <use x=\"196.916016\" xlink:href=\"#DejaVuSans-69\"/>\r\n      <use x=\"224.699219\" xlink:href=\"#DejaVuSans-6e\"/>\r\n      <use x=\"288.078125\" xlink:href=\"#DejaVuSans-67\"/>\r\n      <use x=\"351.554688\" xlink:href=\"#DejaVuSans-20\"/>\r\n      <use x=\"383.341797\" xlink:href=\"#DejaVuSans-64\"/>\r\n      <use x=\"446.818359\" xlink:href=\"#DejaVuSans-61\"/>\r\n      <use x=\"508.097656\" xlink:href=\"#DejaVuSans-74\"/>\r\n      <use x=\"547.306641\" xlink:href=\"#DejaVuSans-61\"/>\r\n     </g>\r\n    </g>\r\n   </g>\r\n  </g>\r\n </g>\r\n <defs>\r\n  <clipPath id=\"p593b19644b\">\r\n   <rect height=\"380.52\" width=\"558\" x=\"35.304688\" y=\"7.2\"/>\r\n  </clipPath>\r\n </defs>\r\n</svg>\r\n",
      "image/png": "[encoded data removed]"
     },
     "metadata": {
      "needs_background": "light"
     }
    }
   ],
   "metadata": {}
  },
  {
   "cell_type": "code",
   "execution_count": 19,
   "source": [
    "tf.random.set_seed(42)\r\n",
    "\r\n",
    "# 1. 모델을 create\r\n",
    "model = tf.keras.Sequential([\r\n",
    "    tf.keras.layers.Dense(1)\r\n",
    "])\r\n",
    "\r\n",
    "# 2. 모델을 compile\r\n",
    "model.compile(\r\n",
    "    loss = tf.keras.losses.mae,   # mean absolute error\r\n",
    "    optimizer = tf.keras.optimizers.SGD(), # short for stochastic gradient descent\r\n",
    "    metrics = [\"mae\"]\r\n",
    ")"
   ],
   "outputs": [],
   "metadata": {}
  },
  {
   "cell_type": "code",
   "execution_count": 31,
   "source": [
    "# 3. 모델을 fit\r\n",
    "model.fit(X, y, epochs = 100, verbose = 0)"
   ],
   "outputs": [
    {
     "output_type": "execute_result",
     "data": {
      "text/plain": [
       "<keras.callbacks.History at 0x1f9c1e80910>"
      ]
     },
     "metadata": {},
     "execution_count": 31
    }
   ],
   "metadata": {}
  },
  {
   "cell_type": "code",
   "execution_count": 22,
   "source": [
    "model.summary()"
   ],
   "outputs": [
    {
     "output_type": "stream",
     "name": "stdout",
     "text": [
      "Model: \"sequential_2\"\n",
      "_________________________________________________________________\n",
      "Layer (type)                 Output Shape              Param #   \n",
      "=================================================================\n",
      "dense_2 (Dense)              (None, 1)                 2         \n",
      "=================================================================\n",
      "Total params: 2\n",
      "Trainable params: 2\n",
      "Non-trainable params: 0\n",
      "_________________________________________________________________\n"
     ]
    }
   ],
   "metadata": {}
  },
  {
   "cell_type": "code",
   "execution_count": 32,
   "source": [
    "X_test"
   ],
   "outputs": [
    {
     "output_type": "execute_result",
     "data": {
      "text/plain": [
       "array([60, 64, 68, 72, 76, 80, 84, 88, 92, 96])"
      ]
     },
     "metadata": {},
     "execution_count": 32
    }
   ],
   "metadata": {}
  },
  {
   "cell_type": "code",
   "execution_count": 33,
   "source": [
    "y_preds = model.predict(X_test)"
   ],
   "outputs": [],
   "metadata": {}
  },
  {
   "cell_type": "code",
   "execution_count": 34,
   "source": [
    "y_preds, len(y_preds)"
   ],
   "outputs": [
    {
     "output_type": "execute_result",
     "data": {
      "text/plain": [
       "(array([[52.780174],\n",
       "        [55.977085],\n",
       "        [59.173996],\n",
       "        [62.370903],\n",
       "        [65.56782 ],\n",
       "        [68.764725],\n",
       "        [71.96163 ],\n",
       "        [75.15855 ],\n",
       "        [78.35545 ],\n",
       "        [81.55236 ]], dtype=float32),\n",
       " 10)"
      ]
     },
     "metadata": {},
     "execution_count": 34
    }
   ],
   "metadata": {}
  },
  {
   "cell_type": "code",
   "execution_count": 35,
   "source": [
    "def plot_predictions(\r\n",
    "    train_data = X_train,\r\n",
    "    train_labels = y_train,\r\n",
    "    test_data = X_test,\r\n",
    "    test_labels = y_test,\r\n",
    "    predictions = y_preds\r\n",
    "):\r\n",
    "    plt.figure(figsize = (10, 7))\r\n",
    "    plt.scatter(train_data, train_labels, c = \"b\", label = \"Traning data\")\r\n",
    "    plt.scatter(test_data, test_labels, c = \"g\", label = \"Testing data\")\r\n",
    "    plt.scatter(test_data, predictions, c = \"r\", label = \"Predictions\")\r\n",
    "    plt.legend()"
   ],
   "outputs": [],
   "metadata": {}
  },
  {
   "cell_type": "code",
   "execution_count": 36,
   "source": [
    "plot_predictions(\r\n",
    "    train_data = X_train,\r\n",
    "    train_labels = y_train,\r\n",
    "    test_data = X_test,\r\n",
    "    test_labels = y_test,\r\n",
    "    predictions = y_preds\r\n",
    ")"
   ],
   "outputs": [
    {
     "output_type": "display_data",
     "data": {
      "text/plain": [
       "<Figure size 720x504 with 1 Axes>"
      ],
      "image/svg+xml": "<?xml version=\"1.0\" encoding=\"utf-8\" standalone=\"no\"?>\r\n<!DOCTYPE svg PUBLIC \"-//W3C//DTD SVG 1.1//EN\"\r\n  \"http://www.w3.org/Graphics/SVG/1.1/DTD/svg11.dtd\">\r\n<svg height=\"411.598125pt\" version=\"1.1\" viewBox=\"0 0 600.504688 411.598125\" width=\"600.504688pt\" xmlns=\"http://www.w3.org/2000/svg\" xmlns:xlink=\"http://www.w3.org/1999/xlink\">\r\n <metadata>\r\n  <rdf:RDF xmlns:cc=\"http://creativecommons.org/ns#\" xmlns:dc=\"http://purl.org/dc/elements/1.1/\" xmlns:rdf=\"http://www.w3.org/1999/02/22-rdf-syntax-ns#\">\r\n   <cc:Work>\r\n    <dc:type rdf:resource=\"http://purl.org/dc/dcmitype/StillImage\"/>\r\n    <dc:date>2021-08-22T10:02:51.389757</dc:date>\r\n    <dc:format>image/svg+xml</dc:format>\r\n    <dc:creator>\r\n     <cc:Agent>\r\n      <dc:title>Matplotlib v3.4.3, https://matplotlib.org/</dc:title>\r\n     </cc:Agent>\r\n    </dc:creator>\r\n   </cc:Work>\r\n  </rdf:RDF>\r\n </metadata>\r\n <defs>\r\n  <style type=\"text/css\">*{stroke-linecap:butt;stroke-linejoin:round;}</style>\r\n </defs>\r\n <g id=\"figure_1\">\r\n  <g id=\"patch_1\">\r\n   <path d=\"M 0 411.598125 \r\nL 600.504688 411.598125 \r\nL 600.504688 0 \r\nL 0 0 \r\nz\r\n\" style=\"fill:none;\"/>\r\n  </g>\r\n  <g id=\"axes_1\">\r\n   <g id=\"patch_2\">\r\n    <path d=\"M 35.304688 387.72 \r\nL 593.304688 387.72 \r\nL 593.304688 7.2 \r\nL 35.304688 7.2 \r\nz\r\n\" style=\"fill:#ffffff;\"/>\r\n   </g>\r\n   <g id=\"PathCollection_1\">\r\n    <defs>\r\n     <path d=\"M 0 3 \r\nC 0.795609 3 1.55874 2.683901 2.12132 2.12132 \r\nC 2.683901 1.55874 3 0.795609 3 0 \r\nC 3 -0.795609 2.683901 -1.55874 2.12132 -2.12132 \r\nC 1.55874 -2.683901 0.795609 -3 0 -3 \r\nC -0.795609 -3 -1.55874 -2.683901 -2.12132 -2.12132 \r\nC -2.683901 -1.55874 -3 -0.795609 -3 0 \r\nC -3 0.795609 -2.683901 1.55874 -2.12132 2.12132 \r\nC -1.55874 2.683901 -0.795609 3 0 3 \r\nz\r\n\" id=\"m404b5648aa\" style=\"stroke:#0000ff;\"/>\r\n    </defs>\r\n    <g clip-path=\"url(#p22669365b8)\">\r\n     <use style=\"fill:#0000ff;stroke:#0000ff;\" x=\"60.668324\" xlink:href=\"#m404b5648aa\" y=\"370.423636\"/>\r\n     <use style=\"fill:#0000ff;stroke:#0000ff;\" x=\"71.020829\" xlink:href=\"#m404b5648aa\" y=\"363.363896\"/>\r\n     <use style=\"fill:#0000ff;stroke:#0000ff;\" x=\"81.373333\" xlink:href=\"#m404b5648aa\" y=\"356.304156\"/>\r\n     <use style=\"fill:#0000ff;stroke:#0000ff;\" x=\"91.725838\" xlink:href=\"#m404b5648aa\" y=\"349.244416\"/>\r\n     <use style=\"fill:#0000ff;stroke:#0000ff;\" x=\"102.078342\" xlink:href=\"#m404b5648aa\" y=\"342.184675\"/>\r\n     <use style=\"fill:#0000ff;stroke:#0000ff;\" x=\"112.430847\" xlink:href=\"#m404b5648aa\" y=\"335.124935\"/>\r\n     <use style=\"fill:#0000ff;stroke:#0000ff;\" x=\"122.783352\" xlink:href=\"#m404b5648aa\" y=\"328.065195\"/>\r\n     <use style=\"fill:#0000ff;stroke:#0000ff;\" x=\"133.135856\" xlink:href=\"#m404b5648aa\" y=\"321.005455\"/>\r\n     <use style=\"fill:#0000ff;stroke:#0000ff;\" x=\"143.488361\" xlink:href=\"#m404b5648aa\" y=\"313.945714\"/>\r\n     <use style=\"fill:#0000ff;stroke:#0000ff;\" x=\"153.840866\" xlink:href=\"#m404b5648aa\" y=\"306.885974\"/>\r\n     <use style=\"fill:#0000ff;stroke:#0000ff;\" x=\"164.19337\" xlink:href=\"#m404b5648aa\" y=\"299.826234\"/>\r\n     <use style=\"fill:#0000ff;stroke:#0000ff;\" x=\"174.545875\" xlink:href=\"#m404b5648aa\" y=\"292.766494\"/>\r\n     <use style=\"fill:#0000ff;stroke:#0000ff;\" x=\"184.89838\" xlink:href=\"#m404b5648aa\" y=\"285.706753\"/>\r\n     <use style=\"fill:#0000ff;stroke:#0000ff;\" x=\"195.250884\" xlink:href=\"#m404b5648aa\" y=\"278.647013\"/>\r\n     <use style=\"fill:#0000ff;stroke:#0000ff;\" x=\"205.603389\" xlink:href=\"#m404b5648aa\" y=\"271.587273\"/>\r\n     <use style=\"fill:#0000ff;stroke:#0000ff;\" x=\"215.955893\" xlink:href=\"#m404b5648aa\" y=\"264.527532\"/>\r\n     <use style=\"fill:#0000ff;stroke:#0000ff;\" x=\"226.308398\" xlink:href=\"#m404b5648aa\" y=\"257.467792\"/>\r\n     <use style=\"fill:#0000ff;stroke:#0000ff;\" x=\"236.660903\" xlink:href=\"#m404b5648aa\" y=\"250.408052\"/>\r\n     <use style=\"fill:#0000ff;stroke:#0000ff;\" x=\"247.013407\" xlink:href=\"#m404b5648aa\" y=\"243.348312\"/>\r\n     <use style=\"fill:#0000ff;stroke:#0000ff;\" x=\"257.365912\" xlink:href=\"#m404b5648aa\" y=\"236.288571\"/>\r\n     <use style=\"fill:#0000ff;stroke:#0000ff;\" x=\"267.718417\" xlink:href=\"#m404b5648aa\" y=\"229.228831\"/>\r\n     <use style=\"fill:#0000ff;stroke:#0000ff;\" x=\"278.070921\" xlink:href=\"#m404b5648aa\" y=\"222.169091\"/>\r\n     <use style=\"fill:#0000ff;stroke:#0000ff;\" x=\"288.423426\" xlink:href=\"#m404b5648aa\" y=\"215.109351\"/>\r\n     <use style=\"fill:#0000ff;stroke:#0000ff;\" x=\"298.775931\" xlink:href=\"#m404b5648aa\" y=\"208.04961\"/>\r\n     <use style=\"fill:#0000ff;stroke:#0000ff;\" x=\"309.128435\" xlink:href=\"#m404b5648aa\" y=\"200.98987\"/>\r\n     <use style=\"fill:#0000ff;stroke:#0000ff;\" x=\"319.48094\" xlink:href=\"#m404b5648aa\" y=\"193.93013\"/>\r\n     <use style=\"fill:#0000ff;stroke:#0000ff;\" x=\"329.833444\" xlink:href=\"#m404b5648aa\" y=\"186.87039\"/>\r\n     <use style=\"fill:#0000ff;stroke:#0000ff;\" x=\"340.185949\" xlink:href=\"#m404b5648aa\" y=\"179.810649\"/>\r\n     <use style=\"fill:#0000ff;stroke:#0000ff;\" x=\"350.538454\" xlink:href=\"#m404b5648aa\" y=\"172.750909\"/>\r\n     <use style=\"fill:#0000ff;stroke:#0000ff;\" x=\"360.890958\" xlink:href=\"#m404b5648aa\" y=\"165.691169\"/>\r\n     <use style=\"fill:#0000ff;stroke:#0000ff;\" x=\"371.243463\" xlink:href=\"#m404b5648aa\" y=\"158.631429\"/>\r\n     <use style=\"fill:#0000ff;stroke:#0000ff;\" x=\"381.595968\" xlink:href=\"#m404b5648aa\" y=\"151.571688\"/>\r\n     <use style=\"fill:#0000ff;stroke:#0000ff;\" x=\"391.948472\" xlink:href=\"#m404b5648aa\" y=\"144.511948\"/>\r\n     <use style=\"fill:#0000ff;stroke:#0000ff;\" x=\"402.300977\" xlink:href=\"#m404b5648aa\" y=\"137.452208\"/>\r\n     <use style=\"fill:#0000ff;stroke:#0000ff;\" x=\"412.653482\" xlink:href=\"#m404b5648aa\" y=\"130.392468\"/>\r\n     <use style=\"fill:#0000ff;stroke:#0000ff;\" x=\"423.005986\" xlink:href=\"#m404b5648aa\" y=\"123.332727\"/>\r\n     <use style=\"fill:#0000ff;stroke:#0000ff;\" x=\"433.358491\" xlink:href=\"#m404b5648aa\" y=\"116.272987\"/>\r\n     <use style=\"fill:#0000ff;stroke:#0000ff;\" x=\"443.710995\" xlink:href=\"#m404b5648aa\" y=\"109.213247\"/>\r\n     <use style=\"fill:#0000ff;stroke:#0000ff;\" x=\"454.0635\" xlink:href=\"#m404b5648aa\" y=\"102.153506\"/>\r\n     <use style=\"fill:#0000ff;stroke:#0000ff;\" x=\"464.416005\" xlink:href=\"#m404b5648aa\" y=\"95.093766\"/>\r\n    </g>\r\n   </g>\r\n   <g id=\"PathCollection_2\">\r\n    <defs>\r\n     <path d=\"M 0 3 \r\nC 0.795609 3 1.55874 2.683901 2.12132 2.12132 \r\nC 2.683901 1.55874 3 0.795609 3 0 \r\nC 3 -0.795609 2.683901 -1.55874 2.12132 -2.12132 \r\nC 1.55874 -2.683901 0.795609 -3 0 -3 \r\nC -0.795609 -3 -1.55874 -2.683901 -2.12132 -2.12132 \r\nC -2.683901 -1.55874 -3 -0.795609 -3 0 \r\nC -3 0.795609 -2.683901 1.55874 -2.12132 2.12132 \r\nC -1.55874 2.683901 -0.795609 3 0 3 \r\nz\r\n\" id=\"m6739d6aec9\" style=\"stroke:#008000;\"/>\r\n    </defs>\r\n    <g clip-path=\"url(#p22669365b8)\">\r\n     <use style=\"fill:#008000;stroke:#008000;\" x=\"474.768509\" xlink:href=\"#m6739d6aec9\" y=\"88.034026\"/>\r\n     <use style=\"fill:#008000;stroke:#008000;\" x=\"485.121014\" xlink:href=\"#m6739d6aec9\" y=\"80.974286\"/>\r\n     <use style=\"fill:#008000;stroke:#008000;\" x=\"495.473519\" xlink:href=\"#m6739d6aec9\" y=\"73.914545\"/>\r\n     <use style=\"fill:#008000;stroke:#008000;\" x=\"505.826023\" xlink:href=\"#m6739d6aec9\" y=\"66.854805\"/>\r\n     <use style=\"fill:#008000;stroke:#008000;\" x=\"516.178528\" xlink:href=\"#m6739d6aec9\" y=\"59.795065\"/>\r\n     <use style=\"fill:#008000;stroke:#008000;\" x=\"526.531033\" xlink:href=\"#m6739d6aec9\" y=\"52.735325\"/>\r\n     <use style=\"fill:#008000;stroke:#008000;\" x=\"536.883537\" xlink:href=\"#m6739d6aec9\" y=\"45.675584\"/>\r\n     <use style=\"fill:#008000;stroke:#008000;\" x=\"547.236042\" xlink:href=\"#m6739d6aec9\" y=\"38.615844\"/>\r\n     <use style=\"fill:#008000;stroke:#008000;\" x=\"557.588546\" xlink:href=\"#m6739d6aec9\" y=\"31.556104\"/>\r\n     <use style=\"fill:#008000;stroke:#008000;\" x=\"567.941051\" xlink:href=\"#m6739d6aec9\" y=\"24.496364\"/>\r\n    </g>\r\n   </g>\r\n   <g id=\"PathCollection_3\">\r\n    <defs>\r\n     <path d=\"M 0 3 \r\nC 0.795609 3 1.55874 2.683901 2.12132 2.12132 \r\nC 2.683901 1.55874 3 0.795609 3 0 \r\nC 3 -0.795609 2.683901 -1.55874 2.12132 -2.12132 \r\nC 1.55874 -2.683901 0.795609 -3 0 -3 \r\nC -0.795609 -3 -1.55874 -2.683901 -2.12132 -2.12132 \r\nC -2.683901 -1.55874 -3 -0.795609 -3 0 \r\nC -3 0.795609 -2.683901 1.55874 -2.12132 2.12132 \r\nC -1.55874 2.683901 -0.795609 3 0 3 \r\nz\r\n\" id=\"m24ae976b41\" style=\"stroke:#ff0000;\"/>\r\n    </defs>\r\n    <g clip-path=\"url(#p22669365b8)\">\r\n     <use style=\"fill:#ff0000;stroke:#ff0000;\" x=\"474.768509\" xlink:href=\"#m24ae976b41\" y=\"118.4259\"/>\r\n     <use style=\"fill:#ff0000;stroke:#ff0000;\" x=\"485.121014\" xlink:href=\"#m24ae976b41\" y=\"112.78356\"/>\r\n     <use style=\"fill:#ff0000;stroke:#ff0000;\" x=\"495.473519\" xlink:href=\"#m24ae976b41\" y=\"107.14122\"/>\r\n     <use style=\"fill:#ff0000;stroke:#ff0000;\" x=\"505.826023\" xlink:href=\"#m24ae976b41\" y=\"101.498887\"/>\r\n     <use style=\"fill:#ff0000;stroke:#ff0000;\" x=\"516.178528\" xlink:href=\"#m24ae976b41\" y=\"95.85654\"/>\r\n     <use style=\"fill:#ff0000;stroke:#ff0000;\" x=\"526.531033\" xlink:href=\"#m24ae976b41\" y=\"90.214207\"/>\r\n     <use style=\"fill:#ff0000;stroke:#ff0000;\" x=\"536.883537\" xlink:href=\"#m24ae976b41\" y=\"84.571873\"/>\r\n     <use style=\"fill:#ff0000;stroke:#ff0000;\" x=\"547.236042\" xlink:href=\"#m24ae976b41\" y=\"78.929526\"/>\r\n     <use style=\"fill:#ff0000;stroke:#ff0000;\" x=\"557.588546\" xlink:href=\"#m24ae976b41\" y=\"73.287193\"/>\r\n     <use style=\"fill:#ff0000;stroke:#ff0000;\" x=\"567.941051\" xlink:href=\"#m24ae976b41\" y=\"67.64486\"/>\r\n    </g>\r\n   </g>\r\n   <g id=\"matplotlib.axis_1\">\r\n    <g id=\"xtick_1\">\r\n     <g id=\"line2d_1\">\r\n      <defs>\r\n       <path d=\"M 0 0 \r\nL 0 3.5 \r\n\" id=\"m4c59049f58\" style=\"stroke:#000000;stroke-width:0.8;\"/>\r\n      </defs>\r\n      <g>\r\n       <use style=\"stroke:#000000;stroke-width:0.8;\" x=\"60.668324\" xlink:href=\"#m4c59049f58\" y=\"387.72\"/>\r\n      </g>\r\n     </g>\r\n     <g id=\"text_1\">\r\n      <!-- −100 -->\r\n      <g transform=\"translate(46.93473 402.318437)scale(0.1 -0.1)\">\r\n       <defs>\r\n        <path d=\"M 678 2272 \r\nL 4684 2272 \r\nL 4684 1741 \r\nL 678 1741 \r\nL 678 2272 \r\nz\r\n\" id=\"DejaVuSans-2212\" transform=\"scale(0.015625)\"/>\r\n        <path d=\"M 794 531 \r\nL 1825 531 \r\nL 1825 4091 \r\nL 703 3866 \r\nL 703 4441 \r\nL 1819 4666 \r\nL 2450 4666 \r\nL 2450 531 \r\nL 3481 531 \r\nL 3481 0 \r\nL 794 0 \r\nL 794 531 \r\nz\r\n\" id=\"DejaVuSans-31\" transform=\"scale(0.015625)\"/>\r\n        <path d=\"M 2034 4250 \r\nQ 1547 4250 1301 3770 \r\nQ 1056 3291 1056 2328 \r\nQ 1056 1369 1301 889 \r\nQ 1547 409 2034 409 \r\nQ 2525 409 2770 889 \r\nQ 3016 1369 3016 2328 \r\nQ 3016 3291 2770 3770 \r\nQ 2525 4250 2034 4250 \r\nz\r\nM 2034 4750 \r\nQ 2819 4750 3233 4129 \r\nQ 3647 3509 3647 2328 \r\nQ 3647 1150 3233 529 \r\nQ 2819 -91 2034 -91 \r\nQ 1250 -91 836 529 \r\nQ 422 1150 422 2328 \r\nQ 422 3509 836 4129 \r\nQ 1250 4750 2034 4750 \r\nz\r\n\" id=\"DejaVuSans-30\" transform=\"scale(0.015625)\"/>\r\n       </defs>\r\n       <use xlink:href=\"#DejaVuSans-2212\"/>\r\n       <use x=\"83.789062\" xlink:href=\"#DejaVuSans-31\"/>\r\n       <use x=\"147.412109\" xlink:href=\"#DejaVuSans-30\"/>\r\n       <use x=\"211.035156\" xlink:href=\"#DejaVuSans-30\"/>\r\n      </g>\r\n     </g>\r\n    </g>\r\n    <g id=\"xtick_2\">\r\n     <g id=\"line2d_2\">\r\n      <g>\r\n       <use style=\"stroke:#000000;stroke-width:0.8;\" x=\"125.371478\" xlink:href=\"#m4c59049f58\" y=\"387.72\"/>\r\n      </g>\r\n     </g>\r\n     <g id=\"text_2\">\r\n      <!-- −75 -->\r\n      <g transform=\"translate(114.819134 402.318437)scale(0.1 -0.1)\">\r\n       <defs>\r\n        <path d=\"M 525 4666 \r\nL 3525 4666 \r\nL 3525 4397 \r\nL 1831 0 \r\nL 1172 0 \r\nL 2766 4134 \r\nL 525 4134 \r\nL 525 4666 \r\nz\r\n\" id=\"DejaVuSans-37\" transform=\"scale(0.015625)\"/>\r\n        <path d=\"M 691 4666 \r\nL 3169 4666 \r\nL 3169 4134 \r\nL 1269 4134 \r\nL 1269 2991 \r\nQ 1406 3038 1543 3061 \r\nQ 1681 3084 1819 3084 \r\nQ 2600 3084 3056 2656 \r\nQ 3513 2228 3513 1497 \r\nQ 3513 744 3044 326 \r\nQ 2575 -91 1722 -91 \r\nQ 1428 -91 1123 -41 \r\nQ 819 9 494 109 \r\nL 494 744 \r\nQ 775 591 1075 516 \r\nQ 1375 441 1709 441 \r\nQ 2250 441 2565 725 \r\nQ 2881 1009 2881 1497 \r\nQ 2881 1984 2565 2268 \r\nQ 2250 2553 1709 2553 \r\nQ 1456 2553 1204 2497 \r\nQ 953 2441 691 2322 \r\nL 691 4666 \r\nz\r\n\" id=\"DejaVuSans-35\" transform=\"scale(0.015625)\"/>\r\n       </defs>\r\n       <use xlink:href=\"#DejaVuSans-2212\"/>\r\n       <use x=\"83.789062\" xlink:href=\"#DejaVuSans-37\"/>\r\n       <use x=\"147.412109\" xlink:href=\"#DejaVuSans-35\"/>\r\n      </g>\r\n     </g>\r\n    </g>\r\n    <g id=\"xtick_3\">\r\n     <g id=\"line2d_3\">\r\n      <g>\r\n       <use style=\"stroke:#000000;stroke-width:0.8;\" x=\"190.074632\" xlink:href=\"#m4c59049f58\" y=\"387.72\"/>\r\n      </g>\r\n     </g>\r\n     <g id=\"text_3\">\r\n      <!-- −50 -->\r\n      <g transform=\"translate(179.522288 402.318437)scale(0.1 -0.1)\">\r\n       <use xlink:href=\"#DejaVuSans-2212\"/>\r\n       <use x=\"83.789062\" xlink:href=\"#DejaVuSans-35\"/>\r\n       <use x=\"147.412109\" xlink:href=\"#DejaVuSans-30\"/>\r\n      </g>\r\n     </g>\r\n    </g>\r\n    <g id=\"xtick_4\">\r\n     <g id=\"line2d_4\">\r\n      <g>\r\n       <use style=\"stroke:#000000;stroke-width:0.8;\" x=\"254.777786\" xlink:href=\"#m4c59049f58\" y=\"387.72\"/>\r\n      </g>\r\n     </g>\r\n     <g id=\"text_4\">\r\n      <!-- −25 -->\r\n      <g transform=\"translate(244.225442 402.318437)scale(0.1 -0.1)\">\r\n       <defs>\r\n        <path d=\"M 1228 531 \r\nL 3431 531 \r\nL 3431 0 \r\nL 469 0 \r\nL 469 531 \r\nQ 828 903 1448 1529 \r\nQ 2069 2156 2228 2338 \r\nQ 2531 2678 2651 2914 \r\nQ 2772 3150 2772 3378 \r\nQ 2772 3750 2511 3984 \r\nQ 2250 4219 1831 4219 \r\nQ 1534 4219 1204 4116 \r\nQ 875 4013 500 3803 \r\nL 500 4441 \r\nQ 881 4594 1212 4672 \r\nQ 1544 4750 1819 4750 \r\nQ 2544 4750 2975 4387 \r\nQ 3406 4025 3406 3419 \r\nQ 3406 3131 3298 2873 \r\nQ 3191 2616 2906 2266 \r\nQ 2828 2175 2409 1742 \r\nQ 1991 1309 1228 531 \r\nz\r\n\" id=\"DejaVuSans-32\" transform=\"scale(0.015625)\"/>\r\n       </defs>\r\n       <use xlink:href=\"#DejaVuSans-2212\"/>\r\n       <use x=\"83.789062\" xlink:href=\"#DejaVuSans-32\"/>\r\n       <use x=\"147.412109\" xlink:href=\"#DejaVuSans-35\"/>\r\n      </g>\r\n     </g>\r\n    </g>\r\n    <g id=\"xtick_5\">\r\n     <g id=\"line2d_5\">\r\n      <g>\r\n       <use style=\"stroke:#000000;stroke-width:0.8;\" x=\"319.48094\" xlink:href=\"#m4c59049f58\" y=\"387.72\"/>\r\n      </g>\r\n     </g>\r\n     <g id=\"text_5\">\r\n      <!-- 0 -->\r\n      <g transform=\"translate(316.29969 402.318437)scale(0.1 -0.1)\">\r\n       <use xlink:href=\"#DejaVuSans-30\"/>\r\n      </g>\r\n     </g>\r\n    </g>\r\n    <g id=\"xtick_6\">\r\n     <g id=\"line2d_6\">\r\n      <g>\r\n       <use style=\"stroke:#000000;stroke-width:0.8;\" x=\"384.184094\" xlink:href=\"#m4c59049f58\" y=\"387.72\"/>\r\n      </g>\r\n     </g>\r\n     <g id=\"text_6\">\r\n      <!-- 25 -->\r\n      <g transform=\"translate(377.821594 402.318437)scale(0.1 -0.1)\">\r\n       <use xlink:href=\"#DejaVuSans-32\"/>\r\n       <use x=\"63.623047\" xlink:href=\"#DejaVuSans-35\"/>\r\n      </g>\r\n     </g>\r\n    </g>\r\n    <g id=\"xtick_7\">\r\n     <g id=\"line2d_7\">\r\n      <g>\r\n       <use style=\"stroke:#000000;stroke-width:0.8;\" x=\"448.887248\" xlink:href=\"#m4c59049f58\" y=\"387.72\"/>\r\n      </g>\r\n     </g>\r\n     <g id=\"text_7\">\r\n      <!-- 50 -->\r\n      <g transform=\"translate(442.524748 402.318437)scale(0.1 -0.1)\">\r\n       <use xlink:href=\"#DejaVuSans-35\"/>\r\n       <use x=\"63.623047\" xlink:href=\"#DejaVuSans-30\"/>\r\n      </g>\r\n     </g>\r\n    </g>\r\n    <g id=\"xtick_8\">\r\n     <g id=\"line2d_8\">\r\n      <g>\r\n       <use style=\"stroke:#000000;stroke-width:0.8;\" x=\"513.590402\" xlink:href=\"#m4c59049f58\" y=\"387.72\"/>\r\n      </g>\r\n     </g>\r\n     <g id=\"text_8\">\r\n      <!-- 75 -->\r\n      <g transform=\"translate(507.227902 402.318437)scale(0.1 -0.1)\">\r\n       <use xlink:href=\"#DejaVuSans-37\"/>\r\n       <use x=\"63.623047\" xlink:href=\"#DejaVuSans-35\"/>\r\n      </g>\r\n     </g>\r\n    </g>\r\n    <g id=\"xtick_9\">\r\n     <g id=\"line2d_9\">\r\n      <g>\r\n       <use style=\"stroke:#000000;stroke-width:0.8;\" x=\"578.293556\" xlink:href=\"#m4c59049f58\" y=\"387.72\"/>\r\n      </g>\r\n     </g>\r\n     <g id=\"text_9\">\r\n      <!-- 100 -->\r\n      <g transform=\"translate(568.749806 402.318437)scale(0.1 -0.1)\">\r\n       <use xlink:href=\"#DejaVuSans-31\"/>\r\n       <use x=\"63.623047\" xlink:href=\"#DejaVuSans-30\"/>\r\n       <use x=\"127.246094\" xlink:href=\"#DejaVuSans-30\"/>\r\n      </g>\r\n     </g>\r\n    </g>\r\n   </g>\r\n   <g id=\"matplotlib.axis_2\">\r\n    <g id=\"ytick_1\">\r\n     <g id=\"line2d_10\">\r\n      <defs>\r\n       <path d=\"M 0 0 \r\nL -3.5 0 \r\n\" id=\"m03a82a9257\" style=\"stroke:#000000;stroke-width:0.8;\"/>\r\n      </defs>\r\n      <g>\r\n       <use style=\"stroke:#000000;stroke-width:0.8;\" x=\"35.304688\" xlink:href=\"#m03a82a9257\" y=\"343.94961\"/>\r\n      </g>\r\n     </g>\r\n     <g id=\"text_10\">\r\n      <!-- −75 -->\r\n      <g transform=\"translate(7.2 347.748829)scale(0.1 -0.1)\">\r\n       <use xlink:href=\"#DejaVuSans-2212\"/>\r\n       <use x=\"83.789062\" xlink:href=\"#DejaVuSans-37\"/>\r\n       <use x=\"147.412109\" xlink:href=\"#DejaVuSans-35\"/>\r\n      </g>\r\n     </g>\r\n    </g>\r\n    <g id=\"ytick_2\">\r\n     <g id=\"line2d_11\">\r\n      <g>\r\n       <use style=\"stroke:#000000;stroke-width:0.8;\" x=\"35.304688\" xlink:href=\"#m03a82a9257\" y=\"299.826234\"/>\r\n      </g>\r\n     </g>\r\n     <g id=\"text_11\">\r\n      <!-- −50 -->\r\n      <g transform=\"translate(7.2 303.625453)scale(0.1 -0.1)\">\r\n       <use xlink:href=\"#DejaVuSans-2212\"/>\r\n       <use x=\"83.789062\" xlink:href=\"#DejaVuSans-35\"/>\r\n       <use x=\"147.412109\" xlink:href=\"#DejaVuSans-30\"/>\r\n      </g>\r\n     </g>\r\n    </g>\r\n    <g id=\"ytick_3\">\r\n     <g id=\"line2d_12\">\r\n      <g>\r\n       <use style=\"stroke:#000000;stroke-width:0.8;\" x=\"35.304688\" xlink:href=\"#m03a82a9257\" y=\"255.702857\"/>\r\n      </g>\r\n     </g>\r\n     <g id=\"text_12\">\r\n      <!-- −25 -->\r\n      <g transform=\"translate(7.2 259.502076)scale(0.1 -0.1)\">\r\n       <use xlink:href=\"#DejaVuSans-2212\"/>\r\n       <use x=\"83.789062\" xlink:href=\"#DejaVuSans-32\"/>\r\n       <use x=\"147.412109\" xlink:href=\"#DejaVuSans-35\"/>\r\n      </g>\r\n     </g>\r\n    </g>\r\n    <g id=\"ytick_4\">\r\n     <g id=\"line2d_13\">\r\n      <g>\r\n       <use style=\"stroke:#000000;stroke-width:0.8;\" x=\"35.304688\" xlink:href=\"#m03a82a9257\" y=\"211.579481\"/>\r\n      </g>\r\n     </g>\r\n     <g id=\"text_13\">\r\n      <!-- 0 -->\r\n      <g transform=\"translate(21.942187 215.378699)scale(0.1 -0.1)\">\r\n       <use xlink:href=\"#DejaVuSans-30\"/>\r\n      </g>\r\n     </g>\r\n    </g>\r\n    <g id=\"ytick_5\">\r\n     <g id=\"line2d_14\">\r\n      <g>\r\n       <use style=\"stroke:#000000;stroke-width:0.8;\" x=\"35.304688\" xlink:href=\"#m03a82a9257\" y=\"167.456104\"/>\r\n      </g>\r\n     </g>\r\n     <g id=\"text_14\">\r\n      <!-- 25 -->\r\n      <g transform=\"translate(15.579687 171.255323)scale(0.1 -0.1)\">\r\n       <use xlink:href=\"#DejaVuSans-32\"/>\r\n       <use x=\"63.623047\" xlink:href=\"#DejaVuSans-35\"/>\r\n      </g>\r\n     </g>\r\n    </g>\r\n    <g id=\"ytick_6\">\r\n     <g id=\"line2d_15\">\r\n      <g>\r\n       <use style=\"stroke:#000000;stroke-width:0.8;\" x=\"35.304688\" xlink:href=\"#m03a82a9257\" y=\"123.332727\"/>\r\n      </g>\r\n     </g>\r\n     <g id=\"text_15\">\r\n      <!-- 50 -->\r\n      <g transform=\"translate(15.579687 127.131946)scale(0.1 -0.1)\">\r\n       <use xlink:href=\"#DejaVuSans-35\"/>\r\n       <use x=\"63.623047\" xlink:href=\"#DejaVuSans-30\"/>\r\n      </g>\r\n     </g>\r\n    </g>\r\n    <g id=\"ytick_7\">\r\n     <g id=\"line2d_16\">\r\n      <g>\r\n       <use style=\"stroke:#000000;stroke-width:0.8;\" x=\"35.304688\" xlink:href=\"#m03a82a9257\" y=\"79.209351\"/>\r\n      </g>\r\n     </g>\r\n     <g id=\"text_16\">\r\n      <!-- 75 -->\r\n      <g transform=\"translate(15.579687 83.008569)scale(0.1 -0.1)\">\r\n       <use xlink:href=\"#DejaVuSans-37\"/>\r\n       <use x=\"63.623047\" xlink:href=\"#DejaVuSans-35\"/>\r\n      </g>\r\n     </g>\r\n    </g>\r\n    <g id=\"ytick_8\">\r\n     <g id=\"line2d_17\">\r\n      <g>\r\n       <use style=\"stroke:#000000;stroke-width:0.8;\" x=\"35.304688\" xlink:href=\"#m03a82a9257\" y=\"35.085974\"/>\r\n      </g>\r\n     </g>\r\n     <g id=\"text_17\">\r\n      <!-- 100 -->\r\n      <g transform=\"translate(9.217187 38.885193)scale(0.1 -0.1)\">\r\n       <use xlink:href=\"#DejaVuSans-31\"/>\r\n       <use x=\"63.623047\" xlink:href=\"#DejaVuSans-30\"/>\r\n       <use x=\"127.246094\" xlink:href=\"#DejaVuSans-30\"/>\r\n      </g>\r\n     </g>\r\n    </g>\r\n   </g>\r\n   <g id=\"patch_3\">\r\n    <path d=\"M 35.304688 387.72 \r\nL 35.304688 7.2 \r\n\" style=\"fill:none;stroke:#000000;stroke-linecap:square;stroke-linejoin:miter;stroke-width:0.8;\"/>\r\n   </g>\r\n   <g id=\"patch_4\">\r\n    <path d=\"M 593.304688 387.72 \r\nL 593.304688 7.2 \r\n\" style=\"fill:none;stroke:#000000;stroke-linecap:square;stroke-linejoin:miter;stroke-width:0.8;\"/>\r\n   </g>\r\n   <g id=\"patch_5\">\r\n    <path d=\"M 35.304688 387.72 \r\nL 593.304688 387.72 \r\n\" style=\"fill:none;stroke:#000000;stroke-linecap:square;stroke-linejoin:miter;stroke-width:0.8;\"/>\r\n   </g>\r\n   <g id=\"patch_6\">\r\n    <path d=\"M 35.304688 7.2 \r\nL 593.304688 7.2 \r\n\" style=\"fill:none;stroke:#000000;stroke-linecap:square;stroke-linejoin:miter;stroke-width:0.8;\"/>\r\n   </g>\r\n   <g id=\"legend_1\">\r\n    <g id=\"patch_7\">\r\n     <path d=\"M 42.304688 59.234375 \r\nL 136.68125 59.234375 \r\nQ 138.68125 59.234375 138.68125 57.234375 \r\nL 138.68125 14.2 \r\nQ 138.68125 12.2 136.68125 12.2 \r\nL 42.304688 12.2 \r\nQ 40.304688 12.2 40.304688 14.2 \r\nL 40.304688 57.234375 \r\nQ 40.304688 59.234375 42.304688 59.234375 \r\nz\r\n\" style=\"fill:#ffffff;opacity:0.8;stroke:#cccccc;stroke-linejoin:miter;\"/>\r\n    </g>\r\n    <g id=\"PathCollection_4\">\r\n     <g>\r\n      <use style=\"fill:#0000ff;stroke:#0000ff;\" x=\"54.304688\" xlink:href=\"#m404b5648aa\" y=\"21.173437\"/>\r\n     </g>\r\n    </g>\r\n    <g id=\"text_18\">\r\n     <!-- Traning data -->\r\n     <g transform=\"translate(72.304688 23.798437)scale(0.1 -0.1)\">\r\n      <defs>\r\n       <path d=\"M -19 4666 \r\nL 3928 4666 \r\nL 3928 4134 \r\nL 2272 4134 \r\nL 2272 0 \r\nL 1638 0 \r\nL 1638 4134 \r\nL -19 4134 \r\nL -19 4666 \r\nz\r\n\" id=\"DejaVuSans-54\" transform=\"scale(0.015625)\"/>\r\n       <path d=\"M 2631 2963 \r\nQ 2534 3019 2420 3045 \r\nQ 2306 3072 2169 3072 \r\nQ 1681 3072 1420 2755 \r\nQ 1159 2438 1159 1844 \r\nL 1159 0 \r\nL 581 0 \r\nL 581 3500 \r\nL 1159 3500 \r\nL 1159 2956 \r\nQ 1341 3275 1631 3429 \r\nQ 1922 3584 2338 3584 \r\nQ 2397 3584 2469 3576 \r\nQ 2541 3569 2628 3553 \r\nL 2631 2963 \r\nz\r\n\" id=\"DejaVuSans-72\" transform=\"scale(0.015625)\"/>\r\n       <path d=\"M 2194 1759 \r\nQ 1497 1759 1228 1600 \r\nQ 959 1441 959 1056 \r\nQ 959 750 1161 570 \r\nQ 1363 391 1709 391 \r\nQ 2188 391 2477 730 \r\nQ 2766 1069 2766 1631 \r\nL 2766 1759 \r\nL 2194 1759 \r\nz\r\nM 3341 1997 \r\nL 3341 0 \r\nL 2766 0 \r\nL 2766 531 \r\nQ 2569 213 2275 61 \r\nQ 1981 -91 1556 -91 \r\nQ 1019 -91 701 211 \r\nQ 384 513 384 1019 \r\nQ 384 1609 779 1909 \r\nQ 1175 2209 1959 2209 \r\nL 2766 2209 \r\nL 2766 2266 \r\nQ 2766 2663 2505 2880 \r\nQ 2244 3097 1772 3097 \r\nQ 1472 3097 1187 3025 \r\nQ 903 2953 641 2809 \r\nL 641 3341 \r\nQ 956 3463 1253 3523 \r\nQ 1550 3584 1831 3584 \r\nQ 2591 3584 2966 3190 \r\nQ 3341 2797 3341 1997 \r\nz\r\n\" id=\"DejaVuSans-61\" transform=\"scale(0.015625)\"/>\r\n       <path d=\"M 3513 2113 \r\nL 3513 0 \r\nL 2938 0 \r\nL 2938 2094 \r\nQ 2938 2591 2744 2837 \r\nQ 2550 3084 2163 3084 \r\nQ 1697 3084 1428 2787 \r\nQ 1159 2491 1159 1978 \r\nL 1159 0 \r\nL 581 0 \r\nL 581 3500 \r\nL 1159 3500 \r\nL 1159 2956 \r\nQ 1366 3272 1645 3428 \r\nQ 1925 3584 2291 3584 \r\nQ 2894 3584 3203 3211 \r\nQ 3513 2838 3513 2113 \r\nz\r\n\" id=\"DejaVuSans-6e\" transform=\"scale(0.015625)\"/>\r\n       <path d=\"M 603 3500 \r\nL 1178 3500 \r\nL 1178 0 \r\nL 603 0 \r\nL 603 3500 \r\nz\r\nM 603 4863 \r\nL 1178 4863 \r\nL 1178 4134 \r\nL 603 4134 \r\nL 603 4863 \r\nz\r\n\" id=\"DejaVuSans-69\" transform=\"scale(0.015625)\"/>\r\n       <path d=\"M 2906 1791 \r\nQ 2906 2416 2648 2759 \r\nQ 2391 3103 1925 3103 \r\nQ 1463 3103 1205 2759 \r\nQ 947 2416 947 1791 \r\nQ 947 1169 1205 825 \r\nQ 1463 481 1925 481 \r\nQ 2391 481 2648 825 \r\nQ 2906 1169 2906 1791 \r\nz\r\nM 3481 434 \r\nQ 3481 -459 3084 -895 \r\nQ 2688 -1331 1869 -1331 \r\nQ 1566 -1331 1297 -1286 \r\nQ 1028 -1241 775 -1147 \r\nL 775 -588 \r\nQ 1028 -725 1275 -790 \r\nQ 1522 -856 1778 -856 \r\nQ 2344 -856 2625 -561 \r\nQ 2906 -266 2906 331 \r\nL 2906 616 \r\nQ 2728 306 2450 153 \r\nQ 2172 0 1784 0 \r\nQ 1141 0 747 490 \r\nQ 353 981 353 1791 \r\nQ 353 2603 747 3093 \r\nQ 1141 3584 1784 3584 \r\nQ 2172 3584 2450 3431 \r\nQ 2728 3278 2906 2969 \r\nL 2906 3500 \r\nL 3481 3500 \r\nL 3481 434 \r\nz\r\n\" id=\"DejaVuSans-67\" transform=\"scale(0.015625)\"/>\r\n       <path id=\"DejaVuSans-20\" transform=\"scale(0.015625)\"/>\r\n       <path d=\"M 2906 2969 \r\nL 2906 4863 \r\nL 3481 4863 \r\nL 3481 0 \r\nL 2906 0 \r\nL 2906 525 \r\nQ 2725 213 2448 61 \r\nQ 2172 -91 1784 -91 \r\nQ 1150 -91 751 415 \r\nQ 353 922 353 1747 \r\nQ 353 2572 751 3078 \r\nQ 1150 3584 1784 3584 \r\nQ 2172 3584 2448 3432 \r\nQ 2725 3281 2906 2969 \r\nz\r\nM 947 1747 \r\nQ 947 1113 1208 752 \r\nQ 1469 391 1925 391 \r\nQ 2381 391 2643 752 \r\nQ 2906 1113 2906 1747 \r\nQ 2906 2381 2643 2742 \r\nQ 2381 3103 1925 3103 \r\nQ 1469 3103 1208 2742 \r\nQ 947 2381 947 1747 \r\nz\r\n\" id=\"DejaVuSans-64\" transform=\"scale(0.015625)\"/>\r\n       <path d=\"M 1172 4494 \r\nL 1172 3500 \r\nL 2356 3500 \r\nL 2356 3053 \r\nL 1172 3053 \r\nL 1172 1153 \r\nQ 1172 725 1289 603 \r\nQ 1406 481 1766 481 \r\nL 2356 481 \r\nL 2356 0 \r\nL 1766 0 \r\nQ 1100 0 847 248 \r\nQ 594 497 594 1153 \r\nL 594 3053 \r\nL 172 3053 \r\nL 172 3500 \r\nL 594 3500 \r\nL 594 4494 \r\nL 1172 4494 \r\nz\r\n\" id=\"DejaVuSans-74\" transform=\"scale(0.015625)\"/>\r\n      </defs>\r\n      <use xlink:href=\"#DejaVuSans-54\"/>\r\n      <use x=\"46.333984\" xlink:href=\"#DejaVuSans-72\"/>\r\n      <use x=\"87.447266\" xlink:href=\"#DejaVuSans-61\"/>\r\n      <use x=\"148.726562\" xlink:href=\"#DejaVuSans-6e\"/>\r\n      <use x=\"212.105469\" xlink:href=\"#DejaVuSans-69\"/>\r\n      <use x=\"239.888672\" xlink:href=\"#DejaVuSans-6e\"/>\r\n      <use x=\"303.267578\" xlink:href=\"#DejaVuSans-67\"/>\r\n      <use x=\"366.744141\" xlink:href=\"#DejaVuSans-20\"/>\r\n      <use x=\"398.53125\" xlink:href=\"#DejaVuSans-64\"/>\r\n      <use x=\"462.007812\" xlink:href=\"#DejaVuSans-61\"/>\r\n      <use x=\"523.287109\" xlink:href=\"#DejaVuSans-74\"/>\r\n      <use x=\"562.496094\" xlink:href=\"#DejaVuSans-61\"/>\r\n     </g>\r\n    </g>\r\n    <g id=\"PathCollection_5\">\r\n     <g>\r\n      <use style=\"fill:#008000;stroke:#008000;\" x=\"54.304688\" xlink:href=\"#m6739d6aec9\" y=\"35.851562\"/>\r\n     </g>\r\n    </g>\r\n    <g id=\"text_19\">\r\n     <!-- Testing data -->\r\n     <g transform=\"translate(72.304688 38.476562)scale(0.1 -0.1)\">\r\n      <defs>\r\n       <path d=\"M 3597 1894 \r\nL 3597 1613 \r\nL 953 1613 \r\nQ 991 1019 1311 708 \r\nQ 1631 397 2203 397 \r\nQ 2534 397 2845 478 \r\nQ 3156 559 3463 722 \r\nL 3463 178 \r\nQ 3153 47 2828 -22 \r\nQ 2503 -91 2169 -91 \r\nQ 1331 -91 842 396 \r\nQ 353 884 353 1716 \r\nQ 353 2575 817 3079 \r\nQ 1281 3584 2069 3584 \r\nQ 2775 3584 3186 3129 \r\nQ 3597 2675 3597 1894 \r\nz\r\nM 3022 2063 \r\nQ 3016 2534 2758 2815 \r\nQ 2500 3097 2075 3097 \r\nQ 1594 3097 1305 2825 \r\nQ 1016 2553 972 2059 \r\nL 3022 2063 \r\nz\r\n\" id=\"DejaVuSans-65\" transform=\"scale(0.015625)\"/>\r\n       <path d=\"M 2834 3397 \r\nL 2834 2853 \r\nQ 2591 2978 2328 3040 \r\nQ 2066 3103 1784 3103 \r\nQ 1356 3103 1142 2972 \r\nQ 928 2841 928 2578 \r\nQ 928 2378 1081 2264 \r\nQ 1234 2150 1697 2047 \r\nL 1894 2003 \r\nQ 2506 1872 2764 1633 \r\nQ 3022 1394 3022 966 \r\nQ 3022 478 2636 193 \r\nQ 2250 -91 1575 -91 \r\nQ 1294 -91 989 -36 \r\nQ 684 19 347 128 \r\nL 347 722 \r\nQ 666 556 975 473 \r\nQ 1284 391 1588 391 \r\nQ 1994 391 2212 530 \r\nQ 2431 669 2431 922 \r\nQ 2431 1156 2273 1281 \r\nQ 2116 1406 1581 1522 \r\nL 1381 1569 \r\nQ 847 1681 609 1914 \r\nQ 372 2147 372 2553 \r\nQ 372 3047 722 3315 \r\nQ 1072 3584 1716 3584 \r\nQ 2034 3584 2315 3537 \r\nQ 2597 3491 2834 3397 \r\nz\r\n\" id=\"DejaVuSans-73\" transform=\"scale(0.015625)\"/>\r\n      </defs>\r\n      <use xlink:href=\"#DejaVuSans-54\"/>\r\n      <use x=\"44.083984\" xlink:href=\"#DejaVuSans-65\"/>\r\n      <use x=\"105.607422\" xlink:href=\"#DejaVuSans-73\"/>\r\n      <use x=\"157.707031\" xlink:href=\"#DejaVuSans-74\"/>\r\n      <use x=\"196.916016\" xlink:href=\"#DejaVuSans-69\"/>\r\n      <use x=\"224.699219\" xlink:href=\"#DejaVuSans-6e\"/>\r\n      <use x=\"288.078125\" xlink:href=\"#DejaVuSans-67\"/>\r\n      <use x=\"351.554688\" xlink:href=\"#DejaVuSans-20\"/>\r\n      <use x=\"383.341797\" xlink:href=\"#DejaVuSans-64\"/>\r\n      <use x=\"446.818359\" xlink:href=\"#DejaVuSans-61\"/>\r\n      <use x=\"508.097656\" xlink:href=\"#DejaVuSans-74\"/>\r\n      <use x=\"547.306641\" xlink:href=\"#DejaVuSans-61\"/>\r\n     </g>\r\n    </g>\r\n    <g id=\"PathCollection_6\">\r\n     <g>\r\n      <use style=\"fill:#ff0000;stroke:#ff0000;\" x=\"54.304688\" xlink:href=\"#m24ae976b41\" y=\"50.529687\"/>\r\n     </g>\r\n    </g>\r\n    <g id=\"text_20\">\r\n     <!-- Predictions -->\r\n     <g transform=\"translate(72.304688 53.154687)scale(0.1 -0.1)\">\r\n      <defs>\r\n       <path d=\"M 1259 4147 \r\nL 1259 2394 \r\nL 2053 2394 \r\nQ 2494 2394 2734 2622 \r\nQ 2975 2850 2975 3272 \r\nQ 2975 3691 2734 3919 \r\nQ 2494 4147 2053 4147 \r\nL 1259 4147 \r\nz\r\nM 628 4666 \r\nL 2053 4666 \r\nQ 2838 4666 3239 4311 \r\nQ 3641 3956 3641 3272 \r\nQ 3641 2581 3239 2228 \r\nQ 2838 1875 2053 1875 \r\nL 1259 1875 \r\nL 1259 0 \r\nL 628 0 \r\nL 628 4666 \r\nz\r\n\" id=\"DejaVuSans-50\" transform=\"scale(0.015625)\"/>\r\n       <path d=\"M 3122 3366 \r\nL 3122 2828 \r\nQ 2878 2963 2633 3030 \r\nQ 2388 3097 2138 3097 \r\nQ 1578 3097 1268 2742 \r\nQ 959 2388 959 1747 \r\nQ 959 1106 1268 751 \r\nQ 1578 397 2138 397 \r\nQ 2388 397 2633 464 \r\nQ 2878 531 3122 666 \r\nL 3122 134 \r\nQ 2881 22 2623 -34 \r\nQ 2366 -91 2075 -91 \r\nQ 1284 -91 818 406 \r\nQ 353 903 353 1747 \r\nQ 353 2603 823 3093 \r\nQ 1294 3584 2113 3584 \r\nQ 2378 3584 2631 3529 \r\nQ 2884 3475 3122 3366 \r\nz\r\n\" id=\"DejaVuSans-63\" transform=\"scale(0.015625)\"/>\r\n       <path d=\"M 1959 3097 \r\nQ 1497 3097 1228 2736 \r\nQ 959 2375 959 1747 \r\nQ 959 1119 1226 758 \r\nQ 1494 397 1959 397 \r\nQ 2419 397 2687 759 \r\nQ 2956 1122 2956 1747 \r\nQ 2956 2369 2687 2733 \r\nQ 2419 3097 1959 3097 \r\nz\r\nM 1959 3584 \r\nQ 2709 3584 3137 3096 \r\nQ 3566 2609 3566 1747 \r\nQ 3566 888 3137 398 \r\nQ 2709 -91 1959 -91 \r\nQ 1206 -91 779 398 \r\nQ 353 888 353 1747 \r\nQ 353 2609 779 3096 \r\nQ 1206 3584 1959 3584 \r\nz\r\n\" id=\"DejaVuSans-6f\" transform=\"scale(0.015625)\"/>\r\n      </defs>\r\n      <use xlink:href=\"#DejaVuSans-50\"/>\r\n      <use x=\"58.552734\" xlink:href=\"#DejaVuSans-72\"/>\r\n      <use x=\"97.416016\" xlink:href=\"#DejaVuSans-65\"/>\r\n      <use x=\"158.939453\" xlink:href=\"#DejaVuSans-64\"/>\r\n      <use x=\"222.416016\" xlink:href=\"#DejaVuSans-69\"/>\r\n      <use x=\"250.199219\" xlink:href=\"#DejaVuSans-63\"/>\r\n      <use x=\"305.179688\" xlink:href=\"#DejaVuSans-74\"/>\r\n      <use x=\"344.388672\" xlink:href=\"#DejaVuSans-69\"/>\r\n      <use x=\"372.171875\" xlink:href=\"#DejaVuSans-6f\"/>\r\n      <use x=\"433.353516\" xlink:href=\"#DejaVuSans-6e\"/>\r\n      <use x=\"496.732422\" xlink:href=\"#DejaVuSans-73\"/>\r\n     </g>\r\n    </g>\r\n   </g>\r\n  </g>\r\n </g>\r\n <defs>\r\n  <clipPath id=\"p22669365b8\">\r\n   <rect height=\"380.52\" width=\"558\" x=\"35.304688\" y=\"7.2\"/>\r\n  </clipPath>\r\n </defs>\r\n</svg>\r\n",
      "image/png": "[encoded data removed]"
     },
     "metadata": {
      "needs_background": "light"
     }
    }
   ],
   "metadata": {}
  },
  {
   "cell_type": "code",
   "execution_count": null,
   "source": [],
   "outputs": [],
   "metadata": {}
  }
 ],
 "metadata": {
  "orig_nbformat": 4,
  "language_info": {
   "name": "python",
   "version": "3.9.6",
   "mimetype": "text/x-python",
   "codemirror_mode": {
    "name": "ipython",
    "version": 3
   },
   "pygments_lexer": "ipython3",
   "nbconvert_exporter": "python",
   "file_extension": ".py"
  },
  "kernelspec": {
   "name": "python3",
   "display_name": "Python 3.9.6 64-bit ('venv': venv)"
  },
  "interpreter": {
   "hash": "23b0618377e212a12a26e4ee68a3e39884635847071ead513355fecbb008c6df"
  }
 },
 "nbformat": 4,
 "nbformat_minor": 2
}